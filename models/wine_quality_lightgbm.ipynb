{
 "metadata": {
  "language_info": {
   "codemirror_mode": {
    "name": "ipython",
    "version": 3
   },
   "file_extension": ".py",
   "mimetype": "text/x-python",
   "name": "python",
   "nbconvert_exporter": "python",
   "pygments_lexer": "ipython3",
   "version": "3.9.4"
  },
  "orig_nbformat": 2,
  "kernelspec": {
   "name": "python394jvsc74a57bd0d6a9cf8126327c116b382250428c71bbc8eb6e562c6a901257f31363db1a73c2",
   "display_name": "Python 3.9.4 64-bit ('xai': conda)"
  }
 },
 "nbformat": 4,
 "nbformat_minor": 2,
 "cells": [
  {
   "source": [
    "# Fit LightGBM to Wine Quality data"
   ],
   "cell_type": "markdown",
   "metadata": {}
  },
  {
   "source": [
    "## Load Dependencies"
   ],
   "cell_type": "markdown",
   "metadata": {}
  },
  {
   "cell_type": "code",
   "execution_count": 103,
   "metadata": {},
   "outputs": [],
   "source": [
    "import joblib\n",
    "import lightgbm as lgb\n",
    "\n",
    "from sklearn.compose import make_column_transformer\n",
    "from sklearn.model_selection import StratifiedKFold\n",
    "from sklearn.pipeline import make_pipeline\n",
    "from sklearn.preprocessing import OneHotEncoder\n",
    "\n",
    "from optuna.distributions import IntUniformDistribution, UniformDistribution\n",
    "from optuna.integration import OptunaSearchCV"
   ]
  },
  {
   "source": [
    "## Load Data"
   ],
   "cell_type": "markdown",
   "metadata": {}
  },
  {
   "cell_type": "code",
   "execution_count": 104,
   "metadata": {},
   "outputs": [],
   "source": [
    "%run ../data/data.py"
   ]
  },
  {
   "source": [
    "To simplify the problem to a binary classification task, we redefine the target variable to identify 'high quality' wines - defined as wines with a rating of 7 or higher."
   ],
   "cell_type": "markdown",
   "metadata": {}
  },
  {
   "cell_type": "code",
   "execution_count": 105,
   "metadata": {},
   "outputs": [],
   "source": [
    "X, y = load_wine_quality(return_X_y=True, binary=True)"
   ]
  },
  {
   "source": [],
   "cell_type": "markdown",
   "metadata": {}
  },
  {
   "source": [
    "## Fit lightGBM"
   ],
   "cell_type": "markdown",
   "metadata": {}
  },
  {
   "source": [
    "Data preprocessing for the task is relatively simple. The Wine Quality data has no missing values. There is only a single categorical variable: The type of wine. We will use One-Hot Encoding for this. As a tree-based method, lightGBM is not affected by feature scale so no normalization is required."
   ],
   "cell_type": "markdown",
   "metadata": {}
  },
  {
   "cell_type": "code",
   "execution_count": 107,
   "metadata": {},
   "outputs": [],
   "source": [
    "columns_categorical = X.select_dtypes('object').columns\n",
    "columns_numeric = X.select_dtypes(exclude='object').columns"
   ]
  },
  {
   "cell_type": "code",
   "execution_count": 108,
   "metadata": {},
   "outputs": [],
   "source": [
    "feature_pipeline = make_column_transformer((OneHotEncoder(), columns_categorical), ('passthrough', columns_numeric))"
   ]
  },
  {
   "cell_type": "code",
   "execution_count": 109,
   "metadata": {},
   "outputs": [],
   "source": [
    "gbm = lgb.LGBMClassifier()"
   ]
  },
  {
   "cell_type": "code",
   "execution_count": 110,
   "metadata": {},
   "outputs": [],
   "source": [
    "gbm_pipeline = make_pipeline(feature_pipeline,gbm)"
   ]
  },
  {
   "source": [
    "### Hyperparameter tuning"
   ],
   "cell_type": "markdown",
   "metadata": {}
  },
  {
   "source": [
    "The lightGBM model has an almost endless list of hyperparameters to tune. A complete list can be found [here](https://lightgbm.readthedocs.io/en/latest/Parameters.html). We will use Bayesian search as implemented in the scikit-optimize package. Compared to naive random search for parameters, this approach finds a good set of hyperparameters in far fewer iterations as it uses Bayesian inference to decide on 'relevant' areas in the parameter space to explore."
   ],
   "cell_type": "markdown",
   "metadata": {}
  },
  {
   "source": [
    "The exact parameter ranges used are motivated by the explanations in the official documentation [here](https://lightgbm.readthedocs.io/en/latest/Parameters-Tuning.html) as well as this [Article](https://towardsdatascience.com/machine-learning-kaggle-competition-part-three-optimization-db04ea415507)."
   ],
   "cell_type": "markdown",
   "metadata": {}
  },
  {
   "cell_type": "code",
   "execution_count": 111,
   "metadata": {},
   "outputs": [],
   "source": [
    "param_distributions = {\n",
    "    'num_leaves': IntUniformDistribution(8, 128),\n",
    "    'learning_rate': UniformDistribution(0.005, 0.5),\n",
    "    'min_child_samples': IntUniformDistribution(10, 200), \n",
    "    'min_child_weight': UniformDistribution(1e-5, 1e-2),\n",
    "    'subsample': UniformDistribution(0.2, 1.0), \n",
    "    'colsample_bytree': UniformDistribution(0.4, 1.0),\n",
    "    'reg_alpha': UniformDistribution(0., 100.),\n",
    "}"
   ]
  },
  {
   "cell_type": "code",
   "execution_count": 112,
   "metadata": {},
   "outputs": [],
   "source": [
    "model_name = gbm_pipeline.steps[-1][0]\n",
    "param_distributions = {model_name+'__'+key: value for key, value in param_distributions.items()}"
   ]
  },
  {
   "source": [
    "If cross-validation folds are randomly created, there is a chance that the training folds to not contain all possible values for the categorical variable 'Type'. We therefore use Stratified Folds to ensure that there are always 'Red' and 'White' wines represented."
   ],
   "cell_type": "markdown",
   "metadata": {}
  },
  {
   "cell_type": "code",
   "execution_count": 113,
   "metadata": {},
   "outputs": [],
   "source": [
    "skf = StratifiedKFold(n_splits=10, shuffle=True, random_state=142)"
   ]
  },
  {
   "cell_type": "code",
   "execution_count": 114,
   "metadata": {},
   "outputs": [
    {
     "output_type": "stream",
     "name": "stderr",
     "text": [
      "<ipython-input-114-0854f45a9a79>:1: ExperimentalWarning: OptunaSearchCV is experimental (supported from v0.17.0). The interface can change in the future.\n  optuna_search = OptunaSearchCV(gbm_pipeline, param_distributions, n_trials=25*len(param_distributions), n_jobs=-1, cv=skf.split(X, X['Type']), scoring='f1', random_state=142)\n"
     ]
    }
   ],
   "source": [
    "optuna_search = OptunaSearchCV(gbm_pipeline, param_distributions, n_trials=25*len(param_distributions), n_jobs=-1, cv=skf.split(X, X['Type']), scoring='f1', random_state=142)"
   ]
  },
  {
   "cell_type": "code",
   "execution_count": 117,
   "metadata": {
    "tags": [
     "outputPrepend"
    ]
   },
   "outputs": [
    {
     "output_type": "stream",
     "name": "stderr",
     "text": [
      "h value: 0.7004532379393243.\u001b[0m\n",
      "\u001b[32m[I 2021-05-18 23:22:15,211]\u001b[0m Trial 133 finished with value: 0.6932861171956944 and parameters: {'lgbmclassifier__num_leaves': 39, 'lgbmclassifier__learning_rate': 0.4399559031898858, 'lgbmclassifier__min_child_samples': 33, 'lgbmclassifier__min_child_weight': 0.0010428609221597896, 'lgbmclassifier__subsample': 0.4732487643233036, 'lgbmclassifier__colsample_bytree': 0.8363961112119015, 'lgbmclassifier__reg_alpha': 1.5777889487329357}. Best is trial 103 with value: 0.7004532379393243.\u001b[0m\n",
      "\u001b[32m[I 2021-05-18 23:22:16,977]\u001b[0m Trial 145 finished with value: 0.2736132412447302 and parameters: {'lgbmclassifier__num_leaves': 49, 'lgbmclassifier__learning_rate': 0.4369507635815919, 'lgbmclassifier__min_child_samples': 41, 'lgbmclassifier__min_child_weight': 0.005264274832692974, 'lgbmclassifier__subsample': 0.5048085398671435, 'lgbmclassifier__colsample_bytree': 0.7856626679742762, 'lgbmclassifier__reg_alpha': 68.1919339123242}. Best is trial 103 with value: 0.7004532379393243.\u001b[0m\n",
      "\u001b[32m[I 2021-05-18 23:22:17,465]\u001b[0m Trial 137 finished with value: 0.6893476781390158 and parameters: {'lgbmclassifier__num_leaves': 50, 'lgbmclassifier__learning_rate': 0.4368481404042576, 'lgbmclassifier__min_child_samples': 33, 'lgbmclassifier__min_child_weight': 0.0014688029853476366, 'lgbmclassifier__subsample': 0.39070623599604, 'lgbmclassifier__colsample_bytree': 0.8327057685108071, 'lgbmclassifier__reg_alpha': 2.0836478732367714}. Best is trial 103 with value: 0.7004532379393243.\u001b[0m\n",
      "\u001b[32m[I 2021-05-18 23:22:18,200]\u001b[0m Trial 127 finished with value: 0.6936244628744579 and parameters: {'lgbmclassifier__num_leaves': 46, 'lgbmclassifier__learning_rate': 0.4930844397161821, 'lgbmclassifier__min_child_samples': 26, 'lgbmclassifier__min_child_weight': 0.009619517915877614, 'lgbmclassifier__subsample': 0.44936991846980723, 'lgbmclassifier__colsample_bytree': 0.7389275091677672, 'lgbmclassifier__reg_alpha': 0.20804744398641195}. Best is trial 103 with value: 0.7004532379393243.\u001b[0m\n",
      "\u001b[32m[I 2021-05-18 23:22:25,443]\u001b[0m Trial 139 finished with value: 0.6891854268242084 and parameters: {'lgbmclassifier__num_leaves': 50, 'lgbmclassifier__learning_rate': 0.43534630327843826, 'lgbmclassifier__min_child_samples': 33, 'lgbmclassifier__min_child_weight': 0.007442689691297813, 'lgbmclassifier__subsample': 0.5105801516221805, 'lgbmclassifier__colsample_bytree': 0.8399203238212253, 'lgbmclassifier__reg_alpha': 2.0667003277821356}. Best is trial 103 with value: 0.7004532379393243.\u001b[0m\n",
      "\u001b[32m[I 2021-05-18 23:22:27,765]\u001b[0m Trial 138 finished with value: 0.681174689479801 and parameters: {'lgbmclassifier__num_leaves': 50, 'lgbmclassifier__learning_rate': 0.435015147691213, 'lgbmclassifier__min_child_samples': 15, 'lgbmclassifier__min_child_weight': 0.001030765615878447, 'lgbmclassifier__subsample': 0.38361263788380834, 'lgbmclassifier__colsample_bytree': 0.8292780175391254, 'lgbmclassifier__reg_alpha': 1.1703249273019969}. Best is trial 103 with value: 0.7004532379393243.\u001b[0m\n",
      "\u001b[32m[I 2021-05-18 23:22:35,700]\u001b[0m Trial 149 finished with value: 0.6128751197319116 and parameters: {'lgbmclassifier__num_leaves': 62, 'lgbmclassifier__learning_rate': 0.40524105871442234, 'lgbmclassifier__min_child_samples': 55, 'lgbmclassifier__min_child_weight': 0.007340155150251589, 'lgbmclassifier__subsample': 0.5206482929461972, 'lgbmclassifier__colsample_bytree': 0.9642155428511925, 'lgbmclassifier__reg_alpha': 5.806914766977492}. Best is trial 103 with value: 0.7004532379393243.\u001b[0m\n",
      "\u001b[32m[I 2021-05-18 23:22:35,887]\u001b[0m Trial 150 finished with value: 0.6155415677993739 and parameters: {'lgbmclassifier__num_leaves': 51, 'lgbmclassifier__learning_rate': 0.4686658587672606, 'lgbmclassifier__min_child_samples': 36, 'lgbmclassifier__min_child_weight': 0.0021754554855062, 'lgbmclassifier__subsample': 0.5087946623007364, 'lgbmclassifier__colsample_bytree': 0.9670072281364649, 'lgbmclassifier__reg_alpha': 6.094231683978154}. Best is trial 103 with value: 0.7004532379393243.\u001b[0m\n",
      "\u001b[32m[I 2021-05-18 23:22:36,652]\u001b[0m Trial 140 finished with value: 0.6913653934744068 and parameters: {'lgbmclassifier__num_leaves': 48, 'lgbmclassifier__learning_rate': 0.43704170101123274, 'lgbmclassifier__min_child_samples': 34, 'lgbmclassifier__min_child_weight': 0.007393707264500941, 'lgbmclassifier__subsample': 0.5112012057304405, 'lgbmclassifier__colsample_bytree': 0.9626925328141857, 'lgbmclassifier__reg_alpha': 1.8682382451658193}. Best is trial 103 with value: 0.7004532379393243.\u001b[0m\n",
      "\u001b[32m[I 2021-05-18 23:22:43,594]\u001b[0m Trial 151 finished with value: 0.6130725448270266 and parameters: {'lgbmclassifier__num_leaves': 75, 'lgbmclassifier__learning_rate': 0.4667944106494975, 'lgbmclassifier__min_child_samples': 36, 'lgbmclassifier__min_child_weight': 0.006673276539979566, 'lgbmclassifier__subsample': 0.4101585875595258, 'lgbmclassifier__colsample_bytree': 0.9691532780381095, 'lgbmclassifier__reg_alpha': 5.9310842169124935}. Best is trial 103 with value: 0.7004532379393243.\u001b[0m\n",
      "\u001b[32m[I 2021-05-18 23:22:43,797]\u001b[0m Trial 142 finished with value: 0.6845356738151496 and parameters: {'lgbmclassifier__num_leaves': 51, 'lgbmclassifier__learning_rate': 0.4373094175988096, 'lgbmclassifier__min_child_samples': 31, 'lgbmclassifier__min_child_weight': 0.006308819558723352, 'lgbmclassifier__subsample': 0.5057968695094524, 'lgbmclassifier__colsample_bytree': 0.8354220078161306, 'lgbmclassifier__reg_alpha': 2.131746603583557}. Best is trial 103 with value: 0.7004532379393243.\u001b[0m\n",
      "\u001b[32m[I 2021-05-18 23:22:45,063]\u001b[0m Trial 152 finished with value: 0.6178009236351707 and parameters: {'lgbmclassifier__num_leaves': 39, 'lgbmclassifier__learning_rate': 0.40705763245540444, 'lgbmclassifier__min_child_samples': 56, 'lgbmclassifier__min_child_weight': 0.006776512216082598, 'lgbmclassifier__subsample': 0.4142540156148683, 'lgbmclassifier__colsample_bytree': 0.9742072354946887, 'lgbmclassifier__reg_alpha': 5.793525215327056}. Best is trial 103 with value: 0.7004532379393243.\u001b[0m\n",
      "\u001b[32m[I 2021-05-18 23:22:45,541]\u001b[0m Trial 141 finished with value: 0.6918942588906887 and parameters: {'lgbmclassifier__num_leaves': 62, 'lgbmclassifier__learning_rate': 0.4093613621901454, 'lgbmclassifier__min_child_samples': 35, 'lgbmclassifier__min_child_weight': 0.006302834917667576, 'lgbmclassifier__subsample': 0.5118855273878153, 'lgbmclassifier__colsample_bytree': 0.9632546041943114, 'lgbmclassifier__reg_alpha': 2.1220858282393325}. Best is trial 103 with value: 0.7004532379393243.\u001b[0m\n",
      "\u001b[32m[I 2021-05-18 23:22:45,653]\u001b[0m Trial 148 finished with value: 0.6859467026395671 and parameters: {'lgbmclassifier__num_leaves': 39, 'lgbmclassifier__learning_rate': 0.4079822601755596, 'lgbmclassifier__min_child_samples': 33, 'lgbmclassifier__min_child_weight': 0.002097740319943634, 'lgbmclassifier__subsample': 0.5128957522894988, 'lgbmclassifier__colsample_bytree': 0.9659389800058465, 'lgbmclassifier__reg_alpha': 2.7230022672065837}. Best is trial 103 with value: 0.7004532379393243.\u001b[0m\n",
      "\u001b[32m[I 2021-05-18 23:22:46,217]\u001b[0m Trial 147 finished with value: 0.6842178130386432 and parameters: {'lgbmclassifier__num_leaves': 49, 'lgbmclassifier__learning_rate': 0.40811722246470933, 'lgbmclassifier__min_child_samples': 37, 'lgbmclassifier__min_child_weight': 0.007454021668107607, 'lgbmclassifier__subsample': 0.505987544518281, 'lgbmclassifier__colsample_bytree': 0.9686597181457077, 'lgbmclassifier__reg_alpha': 2.693800862286395}. Best is trial 103 with value: 0.7004532379393243.\u001b[0m\n",
      "\u001b[32m[I 2021-05-18 23:22:47,760]\u001b[0m Trial 146 finished with value: 0.6984683959416278 and parameters: {'lgbmclassifier__num_leaves': 50, 'lgbmclassifier__learning_rate': 0.3842301286468699, 'lgbmclassifier__min_child_samples': 56, 'lgbmclassifier__min_child_weight': 0.0013472794270995782, 'lgbmclassifier__subsample': 0.5064535493209108, 'lgbmclassifier__colsample_bytree': 0.9645357890169688, 'lgbmclassifier__reg_alpha': 2.7327837385693803}. Best is trial 103 with value: 0.7004532379393243.\u001b[0m\n",
      "\u001b[32m[I 2021-05-18 23:22:54,947]\u001b[0m Trial 143 finished with value: 0.6968610542751933 and parameters: {'lgbmclassifier__num_leaves': 50, 'lgbmclassifier__learning_rate': 0.432986804771778, 'lgbmclassifier__min_child_samples': 85, 'lgbmclassifier__min_child_weight': 0.0038554663916562882, 'lgbmclassifier__subsample': 0.5064623953370189, 'lgbmclassifier__colsample_bytree': 0.7895982396324179, 'lgbmclassifier__reg_alpha': 0.12861339572121766}. Best is trial 103 with value: 0.7004532379393243.\u001b[0m\n",
      "\u001b[32m[I 2021-05-18 23:22:55,727]\u001b[0m Trial 144 finished with value: 0.6949815976750522 and parameters: {'lgbmclassifier__num_leaves': 49, 'lgbmclassifier__learning_rate': 0.40893853454003687, 'lgbmclassifier__min_child_samples': 56, 'lgbmclassifier__min_child_weight': 0.0021715416524738167, 'lgbmclassifier__subsample': 0.5133400490400892, 'lgbmclassifier__colsample_bytree': 0.9560926433120334, 'lgbmclassifier__reg_alpha': 0.22577375418926549}. Best is trial 103 with value: 0.7004532379393243.\u001b[0m\n",
      "\u001b[32m[I 2021-05-18 23:23:01,652]\u001b[0m Trial 155 finished with value: 0.6738628632504284 and parameters: {'lgbmclassifier__num_leaves': 38, 'lgbmclassifier__learning_rate': 0.46986186198829033, 'lgbmclassifier__min_child_samples': 28, 'lgbmclassifier__min_child_weight': 0.006897721646433871, 'lgbmclassifier__subsample': 0.4182171805431969, 'lgbmclassifier__colsample_bytree': 0.9742204997856734, 'lgbmclassifier__reg_alpha': 3.394814531037902}. Best is trial 103 with value: 0.7004532379393243.\u001b[0m\n",
      "\u001b[32m[I 2021-05-18 23:23:03,859]\u001b[0m Trial 153 finished with value: 0.6617384261616326 and parameters: {'lgbmclassifier__num_leaves': 39, 'lgbmclassifier__learning_rate': 0.471287464730499, 'lgbmclassifier__min_child_samples': 36, 'lgbmclassifier__min_child_weight': 0.006180935876665109, 'lgbmclassifier__subsample': 0.47946467705430845, 'lgbmclassifier__colsample_bytree': 0.7511827433671505, 'lgbmclassifier__reg_alpha': 3.3244215299775783}. Best is trial 103 with value: 0.7004532379393243.\u001b[0m\n",
      "\u001b[32m[I 2021-05-18 23:23:05,104]\u001b[0m Trial 154 finished with value: 0.6773337413006926 and parameters: {'lgbmclassifier__num_leaves': 38, 'lgbmclassifier__learning_rate': 0.46822974043518134, 'lgbmclassifier__min_child_samples': 28, 'lgbmclassifier__min_child_weight': 0.0006476945769430889, 'lgbmclassifier__subsample': 0.4107826474625689, 'lgbmclassifier__colsample_bytree': 0.752678392499463, 'lgbmclassifier__reg_alpha': 3.065661690303235}. Best is trial 103 with value: 0.7004532379393243.\u001b[0m\n",
      "\u001b[32m[I 2021-05-18 23:23:09,541]\u001b[0m Trial 157 finished with value: 0.6565785212043224 and parameters: {'lgbmclassifier__num_leaves': 42, 'lgbmclassifier__learning_rate': 0.48489200781448194, 'lgbmclassifier__min_child_samples': 28, 'lgbmclassifier__min_child_weight': 0.006935872428137727, 'lgbmclassifier__subsample': 0.48440134269410495, 'lgbmclassifier__colsample_bytree': 0.9088430155119427, 'lgbmclassifier__reg_alpha': 3.675266126026985}. Best is trial 103 with value: 0.7004532379393243.\u001b[0m\n",
      "\u001b[32m[I 2021-05-18 23:23:13,432]\u001b[0m Trial 161 finished with value: 0.653833677618531 and parameters: {'lgbmclassifier__num_leaves': 62, 'lgbmclassifier__learning_rate': 0.48351799549200103, 'lgbmclassifier__min_child_samples': 43, 'lgbmclassifier__min_child_weight': 0.001324456569487144, 'lgbmclassifier__subsample': 0.5283638301944402, 'lgbmclassifier__colsample_bytree': 0.9338421507046939, 'lgbmclassifier__reg_alpha': 3.966955113859954}. Best is trial 103 with value: 0.7004532379393243.\u001b[0m\n",
      "\u001b[32m[I 2021-05-18 23:23:15,046]\u001b[0m Trial 156 finished with value: 0.6660880909521754 and parameters: {'lgbmclassifier__num_leaves': 38, 'lgbmclassifier__learning_rate': 0.4085099609520911, 'lgbmclassifier__min_child_samples': 28, 'lgbmclassifier__min_child_weight': 0.006243621803034351, 'lgbmclassifier__subsample': 0.9606281935057052, 'lgbmclassifier__colsample_bytree': 0.9363104756777276, 'lgbmclassifier__reg_alpha': 3.400714106623039}. Best is trial 103 with value: 0.7004532379393243.\u001b[0m\n",
      "\u001b[32m[I 2021-05-18 23:23:17,353]\u001b[0m Trial 160 finished with value: 0.6501129194524289 and parameters: {'lgbmclassifier__num_leaves': 60, 'lgbmclassifier__learning_rate': 0.3827536565226882, 'lgbmclassifier__min_child_samples': 43, 'lgbmclassifier__min_child_weight': 0.006090693908054206, 'lgbmclassifier__subsample': 0.5899575765060793, 'lgbmclassifier__colsample_bytree': 0.9337170667205402, 'lgbmclassifier__reg_alpha': 3.8463810076858183}. Best is trial 103 with value: 0.7004532379393243.\u001b[0m\n",
      "\u001b[32m[I 2021-05-18 23:23:18,012]\u001b[0m Trial 159 finished with value: 0.6630607857545262 and parameters: {'lgbmclassifier__num_leaves': 60, 'lgbmclassifier__learning_rate': 0.38351060099693685, 'lgbmclassifier__min_child_samples': 28, 'lgbmclassifier__min_child_weight': 0.0063196665757552515, 'lgbmclassifier__subsample': 0.4823189586354429, 'lgbmclassifier__colsample_bytree': 0.9580483928037494, 'lgbmclassifier__reg_alpha': 3.912978050956684}. Best is trial 103 with value: 0.7004532379393243.\u001b[0m\n",
      "\u001b[32m[I 2021-05-18 23:23:19,441]\u001b[0m Trial 167 finished with value: 0.5683080184531996 and parameters: {'lgbmclassifier__num_leaves': 62, 'lgbmclassifier__learning_rate': 0.427532459289419, 'lgbmclassifier__min_child_samples': 68, 'lgbmclassifier__min_child_weight': 0.004067640169801671, 'lgbmclassifier__subsample': 0.5237775622546477, 'lgbmclassifier__colsample_bytree': 0.9569625037535948, 'lgbmclassifier__reg_alpha': 8.447215410411022}. Best is trial 103 with value: 0.7004532379393243.\u001b[0m\n",
      "\u001b[32m[I 2021-05-18 23:23:24,375]\u001b[0m Trial 168 finished with value: 0.5783329605772096 and parameters: {'lgbmclassifier__num_leaves': 47, 'lgbmclassifier__learning_rate': 0.37949545090214537, 'lgbmclassifier__min_child_samples': 64, 'lgbmclassifier__min_child_weight': 0.00558680204912017, 'lgbmclassifier__subsample': 0.5306511129911289, 'lgbmclassifier__colsample_bytree': 0.9523734143880943, 'lgbmclassifier__reg_alpha': 8.507353944877165}. Best is trial 103 with value: 0.7004532379393243.\u001b[0m\n",
      "\u001b[32m[I 2021-05-18 23:23:27,563]\u001b[0m Trial 158 finished with value: 0.6863352489101454 and parameters: {'lgbmclassifier__num_leaves': 42, 'lgbmclassifier__learning_rate': 0.48476599091258993, 'lgbmclassifier__min_child_samples': 64, 'lgbmclassifier__min_child_weight': 0.00706481472625683, 'lgbmclassifier__subsample': 0.48302550814902634, 'lgbmclassifier__colsample_bytree': 0.9094602908906726, 'lgbmclassifier__reg_alpha': 0.07129121288249585}. Best is trial 103 with value: 0.7004532379393243.\u001b[0m\n",
      "\u001b[32m[I 2021-05-18 23:23:30,766]\u001b[0m Trial 163 finished with value: 0.6872652465768289 and parameters: {'lgbmclassifier__num_leaves': 32, 'lgbmclassifier__learning_rate': 0.38707373701881626, 'lgbmclassifier__min_child_samples': 28, 'lgbmclassifier__min_child_weight': 0.003816695090027861, 'lgbmclassifier__subsample': 0.4776570490243059, 'lgbmclassifier__colsample_bytree': 0.7628624771595605, 'lgbmclassifier__reg_alpha': 0.0010781711300583419}. Best is trial 103 with value: 0.7004532379393243.\u001b[0m\n",
      "\u001b[32m[I 2021-05-18 23:23:32,028]\u001b[0m Trial 170 finished with value: 0.5767620684178192 and parameters: {'lgbmclassifier__num_leaves': 48, 'lgbmclassifier__learning_rate': 0.3904690078016275, 'lgbmclassifier__min_child_samples': 61, 'lgbmclassifier__min_child_weight': 0.003995366197574367, 'lgbmclassifier__subsample': 0.5902412250317497, 'lgbmclassifier__colsample_bytree': 0.9562504371754139, 'lgbmclassifier__reg_alpha': 7.591047079746793}. Best is trial 103 with value: 0.7004532379393243.\u001b[0m\n",
      "\u001b[32m[I 2021-05-18 23:23:32,145]\u001b[0m Trial 171 finished with value: 0.5826203689225238 and parameters: {'lgbmclassifier__num_leaves': 48, 'lgbmclassifier__learning_rate': 0.42235825650925046, 'lgbmclassifier__min_child_samples': 64, 'lgbmclassifier__min_child_weight': 0.0037708838832741847, 'lgbmclassifier__subsample': 0.5547707673127441, 'lgbmclassifier__colsample_bytree': 0.9504809939913271, 'lgbmclassifier__reg_alpha': 8.395161314086986}. Best is trial 103 with value: 0.7004532379393243.\u001b[0m\n",
      "\u001b[32m[I 2021-05-18 23:23:33,423]\u001b[0m Trial 165 finished with value: 0.641198620660177 and parameters: {'lgbmclassifier__num_leaves': 59, 'lgbmclassifier__learning_rate': 0.378697603913862, 'lgbmclassifier__min_child_samples': 66, 'lgbmclassifier__min_child_weight': 0.004104673035853601, 'lgbmclassifier__subsample': 0.5354673733267085, 'lgbmclassifier__colsample_bytree': 0.7487642153969518, 'lgbmclassifier__reg_alpha': 4.045641110111719}. Best is trial 103 with value: 0.7004532379393243.\u001b[0m\n",
      "\u001b[32m[I 2021-05-18 23:23:35,087]\u001b[0m Trial 166 finished with value: 0.6645157175366665 and parameters: {'lgbmclassifier__num_leaves': 60, 'lgbmclassifier__learning_rate': 0.3862894489515815, 'lgbmclassifier__min_child_samples': 43, 'lgbmclassifier__min_child_weight': 0.0014463486437298022, 'lgbmclassifier__subsample': 0.5337896669237322, 'lgbmclassifier__colsample_bytree': 0.95548123640629, 'lgbmclassifier__reg_alpha': 4.071681460317005}. Best is trial 103 with value: 0.7004532379393243.\u001b[0m\n",
      "\u001b[32m[I 2021-05-18 23:23:40,161]\u001b[0m Trial 162 finished with value: 0.6976547441016845 and parameters: {'lgbmclassifier__num_leaves': 60, 'lgbmclassifier__learning_rate': 0.38861753483641653, 'lgbmclassifier__min_child_samples': 43, 'lgbmclassifier__min_child_weight': 0.00693038608606855, 'lgbmclassifier__subsample': 0.4822236268295888, 'lgbmclassifier__colsample_bytree': 0.9322504075833943, 'lgbmclassifier__reg_alpha': 0.3443658601464512}. Best is trial 103 with value: 0.7004532379393243.\u001b[0m\n",
      "\u001b[32m[I 2021-05-18 23:23:46,265]\u001b[0m Trial 164 finished with value: 0.7018790038982454 and parameters: {'lgbmclassifier__num_leaves': 61, 'lgbmclassifier__learning_rate': 0.38474444442753925, 'lgbmclassifier__min_child_samples': 68, 'lgbmclassifier__min_child_weight': 0.0037407279583955228, 'lgbmclassifier__subsample': 0.5311687872988462, 'lgbmclassifier__colsample_bytree': 0.7497104006692983, 'lgbmclassifier__reg_alpha': 0.08817890272566253}. Best is trial 164 with value: 0.7018790038982454.\u001b[0m\n",
      "\u001b[32m[I 2021-05-18 23:23:47,650]\u001b[0m Trial 169 finished with value: 0.6957486378256237 and parameters: {'lgbmclassifier__num_leaves': 46, 'lgbmclassifier__learning_rate': 0.38650209754145626, 'lgbmclassifier__min_child_samples': 71, 'lgbmclassifier__min_child_weight': 0.003872432377408563, 'lgbmclassifier__subsample': 0.5886687431727771, 'lgbmclassifier__colsample_bytree': 0.9528251582542144, 'lgbmclassifier__reg_alpha': 0.05302110523291059}. Best is trial 164 with value: 0.7018790038982454.\u001b[0m\n",
      "\u001b[32m[I 2021-05-18 23:23:48,541]\u001b[0m Trial 172 finished with value: 0.6917225396891097 and parameters: {'lgbmclassifier__num_leaves': 48, 'lgbmclassifier__learning_rate': 0.428640978487826, 'lgbmclassifier__min_child_samples': 69, 'lgbmclassifier__min_child_weight': 0.0018509255562075735, 'lgbmclassifier__subsample': 0.4488492872184676, 'lgbmclassifier__colsample_bytree': 0.9871275004093422, 'lgbmclassifier__reg_alpha': 0.48155092318102477}. Best is trial 164 with value: 0.7018790038982454.\u001b[0m\n",
      "\u001b[32m[I 2021-05-18 23:23:49,497]\u001b[0m Trial 173 finished with value: 0.6977952597810476 and parameters: {'lgbmclassifier__num_leaves': 47, 'lgbmclassifier__learning_rate': 0.42627701584885525, 'lgbmclassifier__min_child_samples': 61, 'lgbmclassifier__min_child_weight': 0.005592132248323914, 'lgbmclassifier__subsample': 0.5515345949588044, 'lgbmclassifier__colsample_bytree': 0.9848325655434347, 'lgbmclassifier__reg_alpha': 0.6378534498184845}. Best is trial 164 with value: 0.7018790038982454.\u001b[0m\n",
      "\u001b[32m[I 2021-05-18 23:23:49,883]\u001b[0m Trial 174 finished with value: 0.6942513272480731 and parameters: {'lgbmclassifier__num_leaves': 44, 'lgbmclassifier__learning_rate': 0.4284788388858354, 'lgbmclassifier__min_child_samples': 48, 'lgbmclassifier__min_child_weight': 0.0018704124683263943, 'lgbmclassifier__subsample': 0.4529600119268928, 'lgbmclassifier__colsample_bytree': 0.794744259268269, 'lgbmclassifier__reg_alpha': 0.11750392223590933}. Best is trial 164 with value: 0.7018790038982454.\u001b[0m\n"
     ]
    },
    {
     "output_type": "execute_result",
     "data": {
      "text/plain": [
       "OptunaSearchCV(cv=<generator object _BaseKFold.split at 0x7f8883962820>,\n",
       "               estimator=Pipeline(steps=[('columntransformer',\n",
       "                                          ColumnTransformer(transformers=[('onehotencoder',\n",
       "                                                                           OneHotEncoder(),\n",
       "                                                                           Index(['Type'], dtype='object')),\n",
       "                                                                          ('passthrough',\n",
       "                                                                           'passthrough',\n",
       "                                                                           Index(['Fixed Acidity', 'Volatile Acidity', 'Citric Acid', 'Residual Sugar',\n",
       "       'Chlorides', 'Free Sulfur Dioxide', 'Total Su...\n",
       "                                    'lgbmclassifier__min_child_samples': IntUniformDistribution(high=200, low=10, step=1),\n",
       "                                    'lgbmclassifier__min_child_weight': UniformDistribution(high=0.01, low=1e-05),\n",
       "                                    'lgbmclassifier__num_leaves': IntUniformDistribution(high=128, low=8, step=1),\n",
       "                                    'lgbmclassifier__reg_alpha': UniformDistribution(high=100.0, low=0.0),\n",
       "                                    'lgbmclassifier__subsample': UniformDistribution(high=1.0, low=0.2)},\n",
       "               random_state=142, scoring='f1')"
      ]
     },
     "metadata": {},
     "execution_count": 117
    }
   ],
   "source": [
    "optuna_search.fit(X,y)"
   ]
  },
  {
   "cell_type": "code",
   "execution_count": null,
   "metadata": {},
   "outputs": [],
   "source": [
    "trained_model = optuna_search.best_estimator_"
   ]
  },
  {
   "cell_type": "code",
   "execution_count": 7,
   "metadata": {},
   "outputs": [],
   "source": [
    "setattr(trained_model, 'training_data', {'X':X, 'y':y})"
   ]
  },
  {
   "cell_type": "code",
   "execution_count": 8,
   "metadata": {},
   "outputs": [],
   "source": [
    "_ = joblib.dump(trained_model, 'wine_quality_lightgbm.pkl')"
   ]
  }
 ]
}