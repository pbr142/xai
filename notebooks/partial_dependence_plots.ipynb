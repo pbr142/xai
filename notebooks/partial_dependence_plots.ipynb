{
 "metadata": {
  "language_info": {
   "codemirror_mode": {
    "name": "ipython",
    "version": 3
   },
   "file_extension": ".py",
   "mimetype": "text/x-python",
   "name": "python",
   "nbconvert_exporter": "python",
   "pygments_lexer": "ipython3",
   "version": "3.7.10"
  },
  "orig_nbformat": 2,
  "kernelspec": {
   "name": "python3710jvsc74a57bd0d6a9cf8126327c116b382250428c71bbc8eb6e562c6a901257f31363db1a73c2",
   "display_name": "Python 3.7.10 64-bit ('xai': conda)"
  }
 },
 "nbformat": 4,
 "nbformat_minor": 2,
 "cells": [
  {
   "source": [
    "# Partial Dependence Plots (PDPs)"
   ],
   "cell_type": "markdown",
   "metadata": {}
  },
  {
   "cell_type": "code",
   "execution_count": 6,
   "metadata": {},
   "outputs": [],
   "source": [
    "import dalex as dx\n",
    "\n",
    "import joblib"
   ]
  },
  {
   "cell_type": "code",
   "execution_count": 1,
   "metadata": {},
   "outputs": [],
   "source": [
    "%run ../data/data.py"
   ]
  },
  {
   "cell_type": "code",
   "execution_count": 4,
   "metadata": {},
   "outputs": [],
   "source": [
    "df = load_adult_data('train')\n",
    "y = df['Income']\n",
    "X = df.drop(columns='Income')"
   ]
  },
  {
   "cell_type": "code",
   "execution_count": 15,
   "metadata": {},
   "outputs": [],
   "source": [
    "adult_rf = joblib.load('../models/adult_rf.pkl')"
   ]
  },
  {
   "cell_type": "code",
   "execution_count": 16,
   "metadata": {},
   "outputs": [
    {
     "output_type": "execute_result",
     "data": {
      "text/plain": [
       "Pipeline(steps=[('features',\n",
       "                 ColumnTransformer(remainder='passthrough',\n",
       "                                   transformers=[('numeric',\n",
       "                                                  Pipeline(steps=[('standardscaler',\n",
       "                                                                   StandardScaler())]),\n",
       "                                                  Index(['Age', 'Final Weight', 'Years of Education', 'Capital Gain',\n",
       "       'Capital Loss', 'Hours per Week'],\n",
       "      dtype='object')),\n",
       "                                                 ('low_cardinality',\n",
       "                                                  Pipeline(steps=[('onehotencoder',\n",
       "                                                                   OneHotEncoder(handle_unknown='ignore'))]),\n",
       "                                                  Index(['Workclass', 'Marital Status', 'Relationship', 'Race', 'Sex'], dtype='object')),\n",
       "                                                 ('high_cardinality',\n",
       "                                                  Pipeline(steps=[('hashingencoder',\n",
       "                                                                   HashingEncoder(max_process=6,\n",
       "                                                                                  return_df=False))]),\n",
       "                                                  Index(['Education', 'Occupation', 'Native Country'], dtype='object'))])),\n",
       "                ('model',\n",
       "                 ExtraTreesClassifier(max_depth=4,\n",
       "                                      min_impurity_decrease=0.29970447712083303,\n",
       "                                      min_samples_leaf=2,\n",
       "                                      min_samples_split=3))])"
      ]
     },
     "metadata": {},
     "execution_count": 16
    }
   ],
   "source": [
    "adult_rf.fit(X,y)"
   ]
  },
  {
   "source": [
    "## Load Dalex Explainer"
   ],
   "cell_type": "markdown",
   "metadata": {}
  },
  {
   "cell_type": "code",
   "execution_count": 17,
   "metadata": {},
   "outputs": [
    {
     "output_type": "stream",
     "name": "stdout",
     "text": [
      "Preparation of a new explainer is initiated\n",
      "\n",
      "  -> data              : 32560 rows 14 cols\n",
      "  -> target variable   : Parameter 'y' was a pandas.Series. Converted to a numpy.ndarray.\n",
      "  -> target variable   : 32560 values\n",
      "  -> target variable   : Please note that 'y' is a string array.\n",
      "  -> target variable   : 'y' should be a numeric or boolean array.\n",
      "  -> target variable   : Otherwise an Error may occur in calculating residuals or loss.\n",
      "  -> model_class       : sklearn.ensemble._forest.ExtraTreesClassifier (default)\n",
      "  -> label             : Adult RF Pipeline\n",
      "  -> predict function  : <function yhat_proba_default at 0x7f69ec5f0050> will be used (default)\n",
      "  -> predict function  : Accepts only pandas.DataFrame, numpy.ndarray causes problems.\n",
      "  -> predicted values  : min = 0.241, mean = 0.241, max = 0.241\n",
      "  -> model type        : classification will be used (default)\n",
      "  -> residual function : difference between y and yhat (default)\n",
      "  -> residuals         :  'residual_function' returns an Error when executed:\n",
      "unsupported operand type(s) for -: 'str' and 'float'\n",
      "  -> model_info        : package sklearn\n",
      "\n",
      "A new explainer has been created!\n"
     ]
    }
   ],
   "source": [
    "adult_rf_exp = dx.Explainer(adult_rf, X, y, label = \"Adult RF Pipeline\")"
   ]
  },
  {
   "cell_type": "code",
   "execution_count": 18,
   "metadata": {},
   "outputs": [
    {
     "output_type": "stream",
     "name": "stderr",
     "text": [
      "Calculating ceteris paribus: 100%|██████████| 14/14 [00:25<00:00,  1.84s/it]\n"
     ]
    },
    {
     "output_type": "execute_result",
     "data": {
      "text/plain": [
       "            _vname_            _label_    _x_    _yhat_  _ids_\n",
       "0               Age  Adult RF Pipeline  17.00  0.240817      0\n",
       "1               Age  Adult RF Pipeline  17.73  0.240817      0\n",
       "2               Age  Adult RF Pipeline  18.46  0.240817      0\n",
       "3               Age  Adult RF Pipeline  19.19  0.240817      0\n",
       "4               Age  Adult RF Pipeline  19.92  0.240817      0\n",
       "..              ...                ...    ...       ...    ...\n",
       "601  Hours per Week  Adult RF Pipeline  95.08  0.240817      0\n",
       "602  Hours per Week  Adult RF Pipeline  96.06  0.240817      0\n",
       "603  Hours per Week  Adult RF Pipeline  97.04  0.240817      0\n",
       "604  Hours per Week  Adult RF Pipeline  98.02  0.240817      0\n",
       "605  Hours per Week  Adult RF Pipeline  99.00  0.240817      0\n",
       "\n",
       "[606 rows x 5 columns]"
      ],
      "text/html": "<div>\n<style scoped>\n    .dataframe tbody tr th:only-of-type {\n        vertical-align: middle;\n    }\n\n    .dataframe tbody tr th {\n        vertical-align: top;\n    }\n\n    .dataframe thead th {\n        text-align: right;\n    }\n</style>\n<table border=\"1\" class=\"dataframe\">\n  <thead>\n    <tr style=\"text-align: right;\">\n      <th></th>\n      <th>_vname_</th>\n      <th>_label_</th>\n      <th>_x_</th>\n      <th>_yhat_</th>\n      <th>_ids_</th>\n    </tr>\n  </thead>\n  <tbody>\n    <tr>\n      <th>0</th>\n      <td>Age</td>\n      <td>Adult RF Pipeline</td>\n      <td>17.00</td>\n      <td>0.240817</td>\n      <td>0</td>\n    </tr>\n    <tr>\n      <th>1</th>\n      <td>Age</td>\n      <td>Adult RF Pipeline</td>\n      <td>17.73</td>\n      <td>0.240817</td>\n      <td>0</td>\n    </tr>\n    <tr>\n      <th>2</th>\n      <td>Age</td>\n      <td>Adult RF Pipeline</td>\n      <td>18.46</td>\n      <td>0.240817</td>\n      <td>0</td>\n    </tr>\n    <tr>\n      <th>3</th>\n      <td>Age</td>\n      <td>Adult RF Pipeline</td>\n      <td>19.19</td>\n      <td>0.240817</td>\n      <td>0</td>\n    </tr>\n    <tr>\n      <th>4</th>\n      <td>Age</td>\n      <td>Adult RF Pipeline</td>\n      <td>19.92</td>\n      <td>0.240817</td>\n      <td>0</td>\n    </tr>\n    <tr>\n      <th>...</th>\n      <td>...</td>\n      <td>...</td>\n      <td>...</td>\n      <td>...</td>\n      <td>...</td>\n    </tr>\n    <tr>\n      <th>601</th>\n      <td>Hours per Week</td>\n      <td>Adult RF Pipeline</td>\n      <td>95.08</td>\n      <td>0.240817</td>\n      <td>0</td>\n    </tr>\n    <tr>\n      <th>602</th>\n      <td>Hours per Week</td>\n      <td>Adult RF Pipeline</td>\n      <td>96.06</td>\n      <td>0.240817</td>\n      <td>0</td>\n    </tr>\n    <tr>\n      <th>603</th>\n      <td>Hours per Week</td>\n      <td>Adult RF Pipeline</td>\n      <td>97.04</td>\n      <td>0.240817</td>\n      <td>0</td>\n    </tr>\n    <tr>\n      <th>604</th>\n      <td>Hours per Week</td>\n      <td>Adult RF Pipeline</td>\n      <td>98.02</td>\n      <td>0.240817</td>\n      <td>0</td>\n    </tr>\n    <tr>\n      <th>605</th>\n      <td>Hours per Week</td>\n      <td>Adult RF Pipeline</td>\n      <td>99.00</td>\n      <td>0.240817</td>\n      <td>0</td>\n    </tr>\n  </tbody>\n</table>\n<p>606 rows × 5 columns</p>\n</div>"
     },
     "metadata": {},
     "execution_count": 18
    }
   ],
   "source": [
    "pd_rf = adult_rf_exp.model_profile()\n",
    "pd_rf.result"
   ]
  },
  {
   "cell_type": "code",
   "execution_count": 19,
   "metadata": {},
   "outputs": [
    {
     "output_type": "display_data",
     "data": {
      "application/vnd.plotly.v1+json": {
       "config": {
        "displaylogo": false,
        "modeBarButtonsToRemove": [
         "sendDataToCloud",
         "lasso2d",
         "autoScale2d",
         "select2d",
         "zoom2d",
         "pan2d",
         "zoomIn2d",
         "zoomOut2d",
         "resetScale2d",
         "toggleSpikelines",
         "hoverCompareCartesian",
         "hoverClosestCartesian"
        ],
        "plotlyServerURL": "https://plot.ly",
        "staticPlot": false,
        "toImageButtonOptions": {
         "height": null,
         "width": null
        }
       },
       "data": [
        {
         "customdata": [
          [
           0.24081695331695377,
           "Adult RF Pipeline",
           "Age"
          ],
          [
           0.24081695331695377,
           "Adult RF Pipeline",
           "Age"
          ],
          [
           0.24081695331695377,
           "Adult RF Pipeline",
           "Age"
          ],
          [
           0.24081695331695377,
           "Adult RF Pipeline",
           "Age"
          ],
          [
           0.24081695331695377,
           "Adult RF Pipeline",
           "Age"
          ],
          [
           0.24081695331695377,
           "Adult RF Pipeline",
           "Age"
          ],
          [
           0.24081695331695377,
           "Adult RF Pipeline",
           "Age"
          ],
          [
           0.24081695331695377,
           "Adult RF Pipeline",
           "Age"
          ],
          [
           0.24081695331695377,
           "Adult RF Pipeline",
           "Age"
          ],
          [
           0.24081695331695377,
           "Adult RF Pipeline",
           "Age"
          ],
          [
           0.24081695331695377,
           "Adult RF Pipeline",
           "Age"
          ],
          [
           0.24081695331695377,
           "Adult RF Pipeline",
           "Age"
          ],
          [
           0.24081695331695377,
           "Adult RF Pipeline",
           "Age"
          ],
          [
           0.24081695331695377,
           "Adult RF Pipeline",
           "Age"
          ],
          [
           0.24081695331695377,
           "Adult RF Pipeline",
           "Age"
          ],
          [
           0.24081695331695377,
           "Adult RF Pipeline",
           "Age"
          ],
          [
           0.24081695331695377,
           "Adult RF Pipeline",
           "Age"
          ],
          [
           0.24081695331695377,
           "Adult RF Pipeline",
           "Age"
          ],
          [
           0.24081695331695377,
           "Adult RF Pipeline",
           "Age"
          ],
          [
           0.24081695331695377,
           "Adult RF Pipeline",
           "Age"
          ],
          [
           0.24081695331695377,
           "Adult RF Pipeline",
           "Age"
          ],
          [
           0.24081695331695377,
           "Adult RF Pipeline",
           "Age"
          ],
          [
           0.24081695331695377,
           "Adult RF Pipeline",
           "Age"
          ],
          [
           0.24081695331695377,
           "Adult RF Pipeline",
           "Age"
          ],
          [
           0.24081695331695377,
           "Adult RF Pipeline",
           "Age"
          ],
          [
           0.24081695331695377,
           "Adult RF Pipeline",
           "Age"
          ],
          [
           0.24081695331695377,
           "Adult RF Pipeline",
           "Age"
          ],
          [
           0.24081695331695377,
           "Adult RF Pipeline",
           "Age"
          ],
          [
           0.24081695331695377,
           "Adult RF Pipeline",
           "Age"
          ],
          [
           0.24081695331695377,
           "Adult RF Pipeline",
           "Age"
          ],
          [
           0.24081695331695377,
           "Adult RF Pipeline",
           "Age"
          ],
          [
           0.24081695331695377,
           "Adult RF Pipeline",
           "Age"
          ],
          [
           0.24081695331695377,
           "Adult RF Pipeline",
           "Age"
          ],
          [
           0.24081695331695377,
           "Adult RF Pipeline",
           "Age"
          ],
          [
           0.24081695331695377,
           "Adult RF Pipeline",
           "Age"
          ],
          [
           0.24081695331695377,
           "Adult RF Pipeline",
           "Age"
          ],
          [
           0.24081695331695377,
           "Adult RF Pipeline",
           "Age"
          ],
          [
           0.24081695331695377,
           "Adult RF Pipeline",
           "Age"
          ],
          [
           0.24081695331695377,
           "Adult RF Pipeline",
           "Age"
          ],
          [
           0.24081695331695377,
           "Adult RF Pipeline",
           "Age"
          ],
          [
           0.24081695331695377,
           "Adult RF Pipeline",
           "Age"
          ],
          [
           0.24081695331695377,
           "Adult RF Pipeline",
           "Age"
          ],
          [
           0.24081695331695377,
           "Adult RF Pipeline",
           "Age"
          ],
          [
           0.24081695331695377,
           "Adult RF Pipeline",
           "Age"
          ],
          [
           0.24081695331695377,
           "Adult RF Pipeline",
           "Age"
          ],
          [
           0.24081695331695377,
           "Adult RF Pipeline",
           "Age"
          ],
          [
           0.24081695331695377,
           "Adult RF Pipeline",
           "Age"
          ],
          [
           0.24081695331695377,
           "Adult RF Pipeline",
           "Age"
          ],
          [
           0.24081695331695377,
           "Adult RF Pipeline",
           "Age"
          ],
          [
           0.24081695331695377,
           "Adult RF Pipeline",
           "Age"
          ],
          [
           0.24081695331695377,
           "Adult RF Pipeline",
           "Age"
          ],
          [
           0.24081695331695377,
           "Adult RF Pipeline",
           "Age"
          ],
          [
           0.24081695331695377,
           "Adult RF Pipeline",
           "Age"
          ],
          [
           0.24081695331695377,
           "Adult RF Pipeline",
           "Age"
          ],
          [
           0.24081695331695377,
           "Adult RF Pipeline",
           "Age"
          ],
          [
           0.24081695331695377,
           "Adult RF Pipeline",
           "Age"
          ],
          [
           0.24081695331695377,
           "Adult RF Pipeline",
           "Age"
          ],
          [
           0.24081695331695377,
           "Adult RF Pipeline",
           "Age"
          ],
          [
           0.24081695331695377,
           "Adult RF Pipeline",
           "Age"
          ],
          [
           0.24081695331695377,
           "Adult RF Pipeline",
           "Age"
          ],
          [
           0.24081695331695377,
           "Adult RF Pipeline",
           "Age"
          ],
          [
           0.24081695331695377,
           "Adult RF Pipeline",
           "Age"
          ],
          [
           0.24081695331695377,
           "Adult RF Pipeline",
           "Age"
          ],
          [
           0.24081695331695377,
           "Adult RF Pipeline",
           "Age"
          ],
          [
           0.24081695331695377,
           "Adult RF Pipeline",
           "Age"
          ],
          [
           0.24081695331695377,
           "Adult RF Pipeline",
           "Age"
          ],
          [
           0.24081695331695377,
           "Adult RF Pipeline",
           "Age"
          ],
          [
           0.24081695331695377,
           "Adult RF Pipeline",
           "Age"
          ],
          [
           0.24081695331695377,
           "Adult RF Pipeline",
           "Age"
          ],
          [
           0.24081695331695377,
           "Adult RF Pipeline",
           "Age"
          ],
          [
           0.24081695331695377,
           "Adult RF Pipeline",
           "Age"
          ],
          [
           0.24081695331695377,
           "Adult RF Pipeline",
           "Age"
          ],
          [
           0.24081695331695377,
           "Adult RF Pipeline",
           "Age"
          ],
          [
           0.24081695331695377,
           "Adult RF Pipeline",
           "Age"
          ],
          [
           0.24081695331695377,
           "Adult RF Pipeline",
           "Age"
          ],
          [
           0.24081695331695377,
           "Adult RF Pipeline",
           "Age"
          ],
          [
           0.24081695331695377,
           "Adult RF Pipeline",
           "Age"
          ],
          [
           0.24081695331695377,
           "Adult RF Pipeline",
           "Age"
          ],
          [
           0.24081695331695377,
           "Adult RF Pipeline",
           "Age"
          ],
          [
           0.24081695331695377,
           "Adult RF Pipeline",
           "Age"
          ],
          [
           0.24081695331695377,
           "Adult RF Pipeline",
           "Age"
          ],
          [
           0.24081695331695377,
           "Adult RF Pipeline",
           "Age"
          ],
          [
           0.24081695331695377,
           "Adult RF Pipeline",
           "Age"
          ],
          [
           0.24081695331695377,
           "Adult RF Pipeline",
           "Age"
          ],
          [
           0.24081695331695377,
           "Adult RF Pipeline",
           "Age"
          ],
          [
           0.24081695331695377,
           "Adult RF Pipeline",
           "Age"
          ],
          [
           0.24081695331695377,
           "Adult RF Pipeline",
           "Age"
          ],
          [
           0.24081695331695377,
           "Adult RF Pipeline",
           "Age"
          ],
          [
           0.24081695331695377,
           "Adult RF Pipeline",
           "Age"
          ],
          [
           0.24081695331695377,
           "Adult RF Pipeline",
           "Age"
          ],
          [
           0.24081695331695377,
           "Adult RF Pipeline",
           "Age"
          ],
          [
           0.24081695331695377,
           "Adult RF Pipeline",
           "Age"
          ],
          [
           0.24081695331695377,
           "Adult RF Pipeline",
           "Age"
          ],
          [
           0.24081695331695377,
           "Adult RF Pipeline",
           "Age"
          ],
          [
           0.24081695331695377,
           "Adult RF Pipeline",
           "Age"
          ],
          [
           0.24081695331695377,
           "Adult RF Pipeline",
           "Age"
          ],
          [
           0.24081695331695377,
           "Adult RF Pipeline",
           "Age"
          ],
          [
           0.24081695331695377,
           "Adult RF Pipeline",
           "Age"
          ],
          [
           0.24081695331695377,
           "Adult RF Pipeline",
           "Age"
          ],
          [
           0.24081695331695377,
           "Adult RF Pipeline",
           "Age"
          ],
          [
           0.24081695331695377,
           "Adult RF Pipeline",
           "Age"
          ]
         ],
         "hovertemplate": "<b>%{hovertext}</b><br><br>prediction=%{y:.3f}<br>mean_prediction=%{customdata[0]:.3f}<extra></extra>",
         "hovertext": [
          "Adult RF Pipeline",
          "Adult RF Pipeline",
          "Adult RF Pipeline",
          "Adult RF Pipeline",
          "Adult RF Pipeline",
          "Adult RF Pipeline",
          "Adult RF Pipeline",
          "Adult RF Pipeline",
          "Adult RF Pipeline",
          "Adult RF Pipeline",
          "Adult RF Pipeline",
          "Adult RF Pipeline",
          "Adult RF Pipeline",
          "Adult RF Pipeline",
          "Adult RF Pipeline",
          "Adult RF Pipeline",
          "Adult RF Pipeline",
          "Adult RF Pipeline",
          "Adult RF Pipeline",
          "Adult RF Pipeline",
          "Adult RF Pipeline",
          "Adult RF Pipeline",
          "Adult RF Pipeline",
          "Adult RF Pipeline",
          "Adult RF Pipeline",
          "Adult RF Pipeline",
          "Adult RF Pipeline",
          "Adult RF Pipeline",
          "Adult RF Pipeline",
          "Adult RF Pipeline",
          "Adult RF Pipeline",
          "Adult RF Pipeline",
          "Adult RF Pipeline",
          "Adult RF Pipeline",
          "Adult RF Pipeline",
          "Adult RF Pipeline",
          "Adult RF Pipeline",
          "Adult RF Pipeline",
          "Adult RF Pipeline",
          "Adult RF Pipeline",
          "Adult RF Pipeline",
          "Adult RF Pipeline",
          "Adult RF Pipeline",
          "Adult RF Pipeline",
          "Adult RF Pipeline",
          "Adult RF Pipeline",
          "Adult RF Pipeline",
          "Adult RF Pipeline",
          "Adult RF Pipeline",
          "Adult RF Pipeline",
          "Adult RF Pipeline",
          "Adult RF Pipeline",
          "Adult RF Pipeline",
          "Adult RF Pipeline",
          "Adult RF Pipeline",
          "Adult RF Pipeline",
          "Adult RF Pipeline",
          "Adult RF Pipeline",
          "Adult RF Pipeline",
          "Adult RF Pipeline",
          "Adult RF Pipeline",
          "Adult RF Pipeline",
          "Adult RF Pipeline",
          "Adult RF Pipeline",
          "Adult RF Pipeline",
          "Adult RF Pipeline",
          "Adult RF Pipeline",
          "Adult RF Pipeline",
          "Adult RF Pipeline",
          "Adult RF Pipeline",
          "Adult RF Pipeline",
          "Adult RF Pipeline",
          "Adult RF Pipeline",
          "Adult RF Pipeline",
          "Adult RF Pipeline",
          "Adult RF Pipeline",
          "Adult RF Pipeline",
          "Adult RF Pipeline",
          "Adult RF Pipeline",
          "Adult RF Pipeline",
          "Adult RF Pipeline",
          "Adult RF Pipeline",
          "Adult RF Pipeline",
          "Adult RF Pipeline",
          "Adult RF Pipeline",
          "Adult RF Pipeline",
          "Adult RF Pipeline",
          "Adult RF Pipeline",
          "Adult RF Pipeline",
          "Adult RF Pipeline",
          "Adult RF Pipeline",
          "Adult RF Pipeline",
          "Adult RF Pipeline",
          "Adult RF Pipeline",
          "Adult RF Pipeline",
          "Adult RF Pipeline",
          "Adult RF Pipeline",
          "Adult RF Pipeline",
          "Adult RF Pipeline",
          "Adult RF Pipeline",
          "Adult RF Pipeline"
         ],
         "legendgroup": "Adult RF Pipeline",
         "line": {
          "color": "#46bac2",
          "dash": "solid",
          "width": 2
         },
         "mode": "lines",
         "name": "Adult RF Pipeline",
         "opacity": 1,
         "orientation": "v",
         "showlegend": true,
         "type": "scatter",
         "x": [
          17,
          17.73,
          18.46,
          19.19,
          19.92,
          20.65,
          21.38,
          22.11,
          22.84,
          23.57,
          24.3,
          25.03,
          25.759999999999998,
          26.490000000000002,
          27.22,
          27.95,
          28.68,
          29.41,
          30.14,
          30.869999999999997,
          31.6,
          32.33,
          33.06,
          33.79,
          34.519999999999996,
          35.25,
          35.980000000000004,
          36.71,
          37.44,
          38.17,
          38.9,
          39.629999999999995,
          40.36,
          41.09,
          41.82,
          42.55,
          43.28,
          44.01,
          44.739999999999995,
          45.47,
          46.2,
          46.93,
          47.66,
          48.39,
          49.12,
          49.85,
          50.58,
          51.31,
          52.04,
          52.769999999999996,
          53.5,
          54.23,
          54.96,
          55.69,
          56.42,
          57.15,
          57.879999999999995,
          58.61,
          59.339999999999996,
          60.07,
          60.8,
          61.53,
          62.26,
          62.99,
          63.72,
          64.44999999999999,
          65.18,
          65.91,
          66.64,
          67.37,
          68.1,
          68.83,
          69.56,
          70.28999999999999,
          71.02,
          71.75,
          72.47999999999999,
          73.21000000000001,
          73.94,
          74.67,
          75.4,
          76.13,
          76.86,
          77.59,
          78.32,
          79.05,
          79.78,
          80.50999999999999,
          81.24,
          81.97,
          82.7,
          83.42999999999999,
          84.16,
          84.89,
          85.62,
          86.35,
          87.08,
          87.81,
          88.53999999999999,
          89.27,
          90
         ],
         "xaxis": "x5",
         "y": [
          0.24081695331695258,
          0.24081695331695258,
          0.24081695331695258,
          0.24081695331695258,
          0.24081695331695258,
          0.24081695331695258,
          0.24081695331695258,
          0.24081695331695258,
          0.24081695331695258,
          0.24081695331695258,
          0.24081695331695258,
          0.24081695331695258,
          0.24081695331695258,
          0.24081695331695258,
          0.24081695331695258,
          0.24081695331695258,
          0.24081695331695258,
          0.24081695331695258,
          0.24081695331695258,
          0.24081695331695258,
          0.24081695331695258,
          0.24081695331695258,
          0.24081695331695258,
          0.24081695331695258,
          0.24081695331695258,
          0.24081695331695258,
          0.24081695331695258,
          0.24081695331695258,
          0.24081695331695258,
          0.24081695331695258,
          0.24081695331695258,
          0.24081695331695258,
          0.24081695331695258,
          0.24081695331695258,
          0.24081695331695258,
          0.24081695331695258,
          0.24081695331695258,
          0.24081695331695258,
          0.24081695331695258,
          0.24081695331695258,
          0.24081695331695258,
          0.24081695331695258,
          0.24081695331695258,
          0.24081695331695258,
          0.24081695331695258,
          0.24081695331695258,
          0.24081695331695258,
          0.24081695331695258,
          0.24081695331695258,
          0.24081695331695258,
          0.24081695331695258,
          0.24081695331695258,
          0.24081695331695258,
          0.24081695331695258,
          0.24081695331695258,
          0.24081695331695258,
          0.24081695331695258,
          0.24081695331695258,
          0.24081695331695258,
          0.24081695331695258,
          0.24081695331695258,
          0.24081695331695258,
          0.24081695331695258,
          0.24081695331695258,
          0.24081695331695258,
          0.24081695331695258,
          0.24081695331695258,
          0.24081695331695258,
          0.24081695331695258,
          0.24081695331695258,
          0.24081695331695258,
          0.24081695331695258,
          0.24081695331695258,
          0.24081695331695258,
          0.24081695331695258,
          0.24081695331695258,
          0.24081695331695258,
          0.24081695331695258,
          0.24081695331695258,
          0.24081695331695258,
          0.24081695331695258,
          0.24081695331695258,
          0.24081695331695258,
          0.24081695331695258,
          0.24081695331695258,
          0.24081695331695258,
          0.24081695331695258,
          0.24081695331695258,
          0.24081695331695258,
          0.24081695331695258,
          0.24081695331695258,
          0.24081695331695258,
          0.24081695331695258,
          0.24081695331695258,
          0.24081695331695258,
          0.24081695331695258,
          0.24081695331695258,
          0.24081695331695258,
          0.24081695331695258,
          0.24081695331695258,
          0.24081695331695258
         ],
         "yaxis": "y5"
        },
        {
         "customdata": [
          [
           0.24081695331695377,
           "Adult RF Pipeline",
           "Final Weight"
          ],
          [
           0.24081695331695377,
           "Adult RF Pipeline",
           "Final Weight"
          ],
          [
           0.24081695331695377,
           "Adult RF Pipeline",
           "Final Weight"
          ],
          [
           0.24081695331695377,
           "Adult RF Pipeline",
           "Final Weight"
          ],
          [
           0.24081695331695377,
           "Adult RF Pipeline",
           "Final Weight"
          ],
          [
           0.24081695331695377,
           "Adult RF Pipeline",
           "Final Weight"
          ],
          [
           0.24081695331695377,
           "Adult RF Pipeline",
           "Final Weight"
          ],
          [
           0.24081695331695377,
           "Adult RF Pipeline",
           "Final Weight"
          ],
          [
           0.24081695331695377,
           "Adult RF Pipeline",
           "Final Weight"
          ],
          [
           0.24081695331695377,
           "Adult RF Pipeline",
           "Final Weight"
          ],
          [
           0.24081695331695377,
           "Adult RF Pipeline",
           "Final Weight"
          ],
          [
           0.24081695331695377,
           "Adult RF Pipeline",
           "Final Weight"
          ],
          [
           0.24081695331695377,
           "Adult RF Pipeline",
           "Final Weight"
          ],
          [
           0.24081695331695377,
           "Adult RF Pipeline",
           "Final Weight"
          ],
          [
           0.24081695331695377,
           "Adult RF Pipeline",
           "Final Weight"
          ],
          [
           0.24081695331695377,
           "Adult RF Pipeline",
           "Final Weight"
          ],
          [
           0.24081695331695377,
           "Adult RF Pipeline",
           "Final Weight"
          ],
          [
           0.24081695331695377,
           "Adult RF Pipeline",
           "Final Weight"
          ],
          [
           0.24081695331695377,
           "Adult RF Pipeline",
           "Final Weight"
          ],
          [
           0.24081695331695377,
           "Adult RF Pipeline",
           "Final Weight"
          ],
          [
           0.24081695331695377,
           "Adult RF Pipeline",
           "Final Weight"
          ],
          [
           0.24081695331695377,
           "Adult RF Pipeline",
           "Final Weight"
          ],
          [
           0.24081695331695377,
           "Adult RF Pipeline",
           "Final Weight"
          ],
          [
           0.24081695331695377,
           "Adult RF Pipeline",
           "Final Weight"
          ],
          [
           0.24081695331695377,
           "Adult RF Pipeline",
           "Final Weight"
          ],
          [
           0.24081695331695377,
           "Adult RF Pipeline",
           "Final Weight"
          ],
          [
           0.24081695331695377,
           "Adult RF Pipeline",
           "Final Weight"
          ],
          [
           0.24081695331695377,
           "Adult RF Pipeline",
           "Final Weight"
          ],
          [
           0.24081695331695377,
           "Adult RF Pipeline",
           "Final Weight"
          ],
          [
           0.24081695331695377,
           "Adult RF Pipeline",
           "Final Weight"
          ],
          [
           0.24081695331695377,
           "Adult RF Pipeline",
           "Final Weight"
          ],
          [
           0.24081695331695377,
           "Adult RF Pipeline",
           "Final Weight"
          ],
          [
           0.24081695331695377,
           "Adult RF Pipeline",
           "Final Weight"
          ],
          [
           0.24081695331695377,
           "Adult RF Pipeline",
           "Final Weight"
          ],
          [
           0.24081695331695377,
           "Adult RF Pipeline",
           "Final Weight"
          ],
          [
           0.24081695331695377,
           "Adult RF Pipeline",
           "Final Weight"
          ],
          [
           0.24081695331695377,
           "Adult RF Pipeline",
           "Final Weight"
          ],
          [
           0.24081695331695377,
           "Adult RF Pipeline",
           "Final Weight"
          ],
          [
           0.24081695331695377,
           "Adult RF Pipeline",
           "Final Weight"
          ],
          [
           0.24081695331695377,
           "Adult RF Pipeline",
           "Final Weight"
          ],
          [
           0.24081695331695377,
           "Adult RF Pipeline",
           "Final Weight"
          ],
          [
           0.24081695331695377,
           "Adult RF Pipeline",
           "Final Weight"
          ],
          [
           0.24081695331695377,
           "Adult RF Pipeline",
           "Final Weight"
          ],
          [
           0.24081695331695377,
           "Adult RF Pipeline",
           "Final Weight"
          ],
          [
           0.24081695331695377,
           "Adult RF Pipeline",
           "Final Weight"
          ],
          [
           0.24081695331695377,
           "Adult RF Pipeline",
           "Final Weight"
          ],
          [
           0.24081695331695377,
           "Adult RF Pipeline",
           "Final Weight"
          ],
          [
           0.24081695331695377,
           "Adult RF Pipeline",
           "Final Weight"
          ],
          [
           0.24081695331695377,
           "Adult RF Pipeline",
           "Final Weight"
          ],
          [
           0.24081695331695377,
           "Adult RF Pipeline",
           "Final Weight"
          ],
          [
           0.24081695331695377,
           "Adult RF Pipeline",
           "Final Weight"
          ],
          [
           0.24081695331695377,
           "Adult RF Pipeline",
           "Final Weight"
          ],
          [
           0.24081695331695377,
           "Adult RF Pipeline",
           "Final Weight"
          ],
          [
           0.24081695331695377,
           "Adult RF Pipeline",
           "Final Weight"
          ],
          [
           0.24081695331695377,
           "Adult RF Pipeline",
           "Final Weight"
          ],
          [
           0.24081695331695377,
           "Adult RF Pipeline",
           "Final Weight"
          ],
          [
           0.24081695331695377,
           "Adult RF Pipeline",
           "Final Weight"
          ],
          [
           0.24081695331695377,
           "Adult RF Pipeline",
           "Final Weight"
          ],
          [
           0.24081695331695377,
           "Adult RF Pipeline",
           "Final Weight"
          ],
          [
           0.24081695331695377,
           "Adult RF Pipeline",
           "Final Weight"
          ],
          [
           0.24081695331695377,
           "Adult RF Pipeline",
           "Final Weight"
          ],
          [
           0.24081695331695377,
           "Adult RF Pipeline",
           "Final Weight"
          ],
          [
           0.24081695331695377,
           "Adult RF Pipeline",
           "Final Weight"
          ],
          [
           0.24081695331695377,
           "Adult RF Pipeline",
           "Final Weight"
          ],
          [
           0.24081695331695377,
           "Adult RF Pipeline",
           "Final Weight"
          ],
          [
           0.24081695331695377,
           "Adult RF Pipeline",
           "Final Weight"
          ],
          [
           0.24081695331695377,
           "Adult RF Pipeline",
           "Final Weight"
          ],
          [
           0.24081695331695377,
           "Adult RF Pipeline",
           "Final Weight"
          ],
          [
           0.24081695331695377,
           "Adult RF Pipeline",
           "Final Weight"
          ],
          [
           0.24081695331695377,
           "Adult RF Pipeline",
           "Final Weight"
          ],
          [
           0.24081695331695377,
           "Adult RF Pipeline",
           "Final Weight"
          ],
          [
           0.24081695331695377,
           "Adult RF Pipeline",
           "Final Weight"
          ],
          [
           0.24081695331695377,
           "Adult RF Pipeline",
           "Final Weight"
          ],
          [
           0.24081695331695377,
           "Adult RF Pipeline",
           "Final Weight"
          ],
          [
           0.24081695331695377,
           "Adult RF Pipeline",
           "Final Weight"
          ],
          [
           0.24081695331695377,
           "Adult RF Pipeline",
           "Final Weight"
          ],
          [
           0.24081695331695377,
           "Adult RF Pipeline",
           "Final Weight"
          ],
          [
           0.24081695331695377,
           "Adult RF Pipeline",
           "Final Weight"
          ],
          [
           0.24081695331695377,
           "Adult RF Pipeline",
           "Final Weight"
          ],
          [
           0.24081695331695377,
           "Adult RF Pipeline",
           "Final Weight"
          ],
          [
           0.24081695331695377,
           "Adult RF Pipeline",
           "Final Weight"
          ],
          [
           0.24081695331695377,
           "Adult RF Pipeline",
           "Final Weight"
          ],
          [
           0.24081695331695377,
           "Adult RF Pipeline",
           "Final Weight"
          ],
          [
           0.24081695331695377,
           "Adult RF Pipeline",
           "Final Weight"
          ],
          [
           0.24081695331695377,
           "Adult RF Pipeline",
           "Final Weight"
          ],
          [
           0.24081695331695377,
           "Adult RF Pipeline",
           "Final Weight"
          ],
          [
           0.24081695331695377,
           "Adult RF Pipeline",
           "Final Weight"
          ],
          [
           0.24081695331695377,
           "Adult RF Pipeline",
           "Final Weight"
          ],
          [
           0.24081695331695377,
           "Adult RF Pipeline",
           "Final Weight"
          ],
          [
           0.24081695331695377,
           "Adult RF Pipeline",
           "Final Weight"
          ],
          [
           0.24081695331695377,
           "Adult RF Pipeline",
           "Final Weight"
          ],
          [
           0.24081695331695377,
           "Adult RF Pipeline",
           "Final Weight"
          ],
          [
           0.24081695331695377,
           "Adult RF Pipeline",
           "Final Weight"
          ],
          [
           0.24081695331695377,
           "Adult RF Pipeline",
           "Final Weight"
          ],
          [
           0.24081695331695377,
           "Adult RF Pipeline",
           "Final Weight"
          ],
          [
           0.24081695331695377,
           "Adult RF Pipeline",
           "Final Weight"
          ],
          [
           0.24081695331695377,
           "Adult RF Pipeline",
           "Final Weight"
          ],
          [
           0.24081695331695377,
           "Adult RF Pipeline",
           "Final Weight"
          ],
          [
           0.24081695331695377,
           "Adult RF Pipeline",
           "Final Weight"
          ],
          [
           0.24081695331695377,
           "Adult RF Pipeline",
           "Final Weight"
          ],
          [
           0.24081695331695377,
           "Adult RF Pipeline",
           "Final Weight"
          ]
         ],
         "hovertemplate": "<b>%{hovertext}</b><br><br>prediction=%{y:.3f}<br>mean_prediction=%{customdata[0]:.3f}<extra></extra>",
         "hovertext": [
          "Adult RF Pipeline",
          "Adult RF Pipeline",
          "Adult RF Pipeline",
          "Adult RF Pipeline",
          "Adult RF Pipeline",
          "Adult RF Pipeline",
          "Adult RF Pipeline",
          "Adult RF Pipeline",
          "Adult RF Pipeline",
          "Adult RF Pipeline",
          "Adult RF Pipeline",
          "Adult RF Pipeline",
          "Adult RF Pipeline",
          "Adult RF Pipeline",
          "Adult RF Pipeline",
          "Adult RF Pipeline",
          "Adult RF Pipeline",
          "Adult RF Pipeline",
          "Adult RF Pipeline",
          "Adult RF Pipeline",
          "Adult RF Pipeline",
          "Adult RF Pipeline",
          "Adult RF Pipeline",
          "Adult RF Pipeline",
          "Adult RF Pipeline",
          "Adult RF Pipeline",
          "Adult RF Pipeline",
          "Adult RF Pipeline",
          "Adult RF Pipeline",
          "Adult RF Pipeline",
          "Adult RF Pipeline",
          "Adult RF Pipeline",
          "Adult RF Pipeline",
          "Adult RF Pipeline",
          "Adult RF Pipeline",
          "Adult RF Pipeline",
          "Adult RF Pipeline",
          "Adult RF Pipeline",
          "Adult RF Pipeline",
          "Adult RF Pipeline",
          "Adult RF Pipeline",
          "Adult RF Pipeline",
          "Adult RF Pipeline",
          "Adult RF Pipeline",
          "Adult RF Pipeline",
          "Adult RF Pipeline",
          "Adult RF Pipeline",
          "Adult RF Pipeline",
          "Adult RF Pipeline",
          "Adult RF Pipeline",
          "Adult RF Pipeline",
          "Adult RF Pipeline",
          "Adult RF Pipeline",
          "Adult RF Pipeline",
          "Adult RF Pipeline",
          "Adult RF Pipeline",
          "Adult RF Pipeline",
          "Adult RF Pipeline",
          "Adult RF Pipeline",
          "Adult RF Pipeline",
          "Adult RF Pipeline",
          "Adult RF Pipeline",
          "Adult RF Pipeline",
          "Adult RF Pipeline",
          "Adult RF Pipeline",
          "Adult RF Pipeline",
          "Adult RF Pipeline",
          "Adult RF Pipeline",
          "Adult RF Pipeline",
          "Adult RF Pipeline",
          "Adult RF Pipeline",
          "Adult RF Pipeline",
          "Adult RF Pipeline",
          "Adult RF Pipeline",
          "Adult RF Pipeline",
          "Adult RF Pipeline",
          "Adult RF Pipeline",
          "Adult RF Pipeline",
          "Adult RF Pipeline",
          "Adult RF Pipeline",
          "Adult RF Pipeline",
          "Adult RF Pipeline",
          "Adult RF Pipeline",
          "Adult RF Pipeline",
          "Adult RF Pipeline",
          "Adult RF Pipeline",
          "Adult RF Pipeline",
          "Adult RF Pipeline",
          "Adult RF Pipeline",
          "Adult RF Pipeline",
          "Adult RF Pipeline",
          "Adult RF Pipeline",
          "Adult RF Pipeline",
          "Adult RF Pipeline",
          "Adult RF Pipeline",
          "Adult RF Pipeline",
          "Adult RF Pipeline",
          "Adult RF Pipeline",
          "Adult RF Pipeline",
          "Adult RF Pipeline",
          "Adult RF Pipeline"
         ],
         "legendgroup": "Adult RF Pipeline",
         "line": {
          "color": "#46bac2",
          "dash": "solid",
          "width": 2
         },
         "mode": "lines",
         "name": "Adult RF Pipeline",
         "opacity": 1,
         "orientation": "v",
         "showlegend": false,
         "type": "scatter",
         "x": [
          12285,
          27009.2,
          41733.4,
          56457.600000000006,
          71181.8,
          85906,
          100630.20000000001,
          115354.40000000001,
          130078.6,
          144802.80000000002,
          159527,
          174251.2,
          188975.40000000002,
          203699.6,
          218423.80000000002,
          233148,
          247872.2,
          262596.4,
          277320.60000000003,
          292044.8,
          306769,
          321493.2,
          336217.4,
          350941.60000000003,
          365665.80000000005,
          380390,
          395114.2,
          409838.4,
          424562.60000000003,
          439286.80000000005,
          454011,
          468735.2,
          483459.4,
          498183.60000000003,
          512907.80000000005,
          527632,
          542356.2000000001,
          557080.4,
          571804.6,
          586528.8,
          601253,
          615977.2000000001,
          630701.4,
          645425.6,
          660149.8,
          674874,
          689598.2000000001,
          704322.4,
          719046.6000000001,
          733770.8,
          748495,
          763219.2000000001,
          777943.4,
          792667.6000000001,
          807391.8,
          822116,
          836840.2000000001,
          851564.4,
          866288.6000000001,
          881012.8,
          895737,
          910461.2000000001,
          925185.4,
          939909.6000000001,
          954633.8,
          969358,
          984082.2000000001,
          998806.4,
          1013530.6000000001,
          1028254.8,
          1042979,
          1057703.2000000002,
          1072427.4000000001,
          1087151.6,
          1101875.8,
          1116600,
          1131324.2,
          1146048.4000000001,
          1160772.6,
          1175496.8,
          1190221,
          1204945.2,
          1219669.4000000001,
          1234393.6,
          1249117.8,
          1263842,
          1278566.2,
          1293290.4000000001,
          1308014.6,
          1322738.8,
          1337463,
          1352187.2,
          1366911.4000000001,
          1381635.6,
          1396359.8,
          1411084,
          1425808.2000000002,
          1440532.4000000001,
          1455256.6,
          1469980.8,
          1484705
         ],
         "xaxis": "x6",
         "y": [
          0.24081695331695258,
          0.24081695331695258,
          0.24081695331695258,
          0.24081695331695258,
          0.24081695331695258,
          0.24081695331695258,
          0.24081695331695258,
          0.24081695331695258,
          0.24081695331695258,
          0.24081695331695258,
          0.24081695331695258,
          0.24081695331695258,
          0.24081695331695258,
          0.24081695331695258,
          0.24081695331695258,
          0.24081695331695258,
          0.24081695331695258,
          0.24081695331695258,
          0.24081695331695258,
          0.24081695331695258,
          0.24081695331695258,
          0.24081695331695258,
          0.24081695331695258,
          0.24081695331695258,
          0.24081695331695258,
          0.24081695331695258,
          0.24081695331695258,
          0.24081695331695258,
          0.24081695331695258,
          0.24081695331695258,
          0.24081695331695258,
          0.24081695331695258,
          0.24081695331695258,
          0.24081695331695258,
          0.24081695331695258,
          0.24081695331695258,
          0.24081695331695258,
          0.24081695331695258,
          0.24081695331695258,
          0.24081695331695258,
          0.24081695331695258,
          0.24081695331695258,
          0.24081695331695258,
          0.24081695331695258,
          0.24081695331695258,
          0.24081695331695258,
          0.24081695331695258,
          0.24081695331695258,
          0.24081695331695258,
          0.24081695331695258,
          0.24081695331695258,
          0.24081695331695258,
          0.24081695331695258,
          0.24081695331695258,
          0.24081695331695258,
          0.24081695331695258,
          0.24081695331695258,
          0.24081695331695258,
          0.24081695331695258,
          0.24081695331695258,
          0.24081695331695258,
          0.24081695331695258,
          0.24081695331695258,
          0.24081695331695258,
          0.24081695331695258,
          0.24081695331695258,
          0.24081695331695258,
          0.24081695331695258,
          0.24081695331695258,
          0.24081695331695258,
          0.24081695331695258,
          0.24081695331695258,
          0.24081695331695258,
          0.24081695331695258,
          0.24081695331695258,
          0.24081695331695258,
          0.24081695331695258,
          0.24081695331695258,
          0.24081695331695258,
          0.24081695331695258,
          0.24081695331695258,
          0.24081695331695258,
          0.24081695331695258,
          0.24081695331695258,
          0.24081695331695258,
          0.24081695331695258,
          0.24081695331695258,
          0.24081695331695258,
          0.24081695331695258,
          0.24081695331695258,
          0.24081695331695258,
          0.24081695331695258,
          0.24081695331695258,
          0.24081695331695258,
          0.24081695331695258,
          0.24081695331695258,
          0.24081695331695258,
          0.24081695331695258,
          0.24081695331695258,
          0.24081695331695258,
          0.24081695331695258
         ],
         "yaxis": "y6"
        },
        {
         "customdata": [
          [
           0.24081695331695377,
           "Adult RF Pipeline",
           "Years of Education"
          ],
          [
           0.24081695331695377,
           "Adult RF Pipeline",
           "Years of Education"
          ],
          [
           0.24081695331695377,
           "Adult RF Pipeline",
           "Years of Education"
          ],
          [
           0.24081695331695377,
           "Adult RF Pipeline",
           "Years of Education"
          ],
          [
           0.24081695331695377,
           "Adult RF Pipeline",
           "Years of Education"
          ],
          [
           0.24081695331695377,
           "Adult RF Pipeline",
           "Years of Education"
          ],
          [
           0.24081695331695377,
           "Adult RF Pipeline",
           "Years of Education"
          ],
          [
           0.24081695331695377,
           "Adult RF Pipeline",
           "Years of Education"
          ],
          [
           0.24081695331695377,
           "Adult RF Pipeline",
           "Years of Education"
          ],
          [
           0.24081695331695377,
           "Adult RF Pipeline",
           "Years of Education"
          ],
          [
           0.24081695331695377,
           "Adult RF Pipeline",
           "Years of Education"
          ],
          [
           0.24081695331695377,
           "Adult RF Pipeline",
           "Years of Education"
          ],
          [
           0.24081695331695377,
           "Adult RF Pipeline",
           "Years of Education"
          ],
          [
           0.24081695331695377,
           "Adult RF Pipeline",
           "Years of Education"
          ],
          [
           0.24081695331695377,
           "Adult RF Pipeline",
           "Years of Education"
          ],
          [
           0.24081695331695377,
           "Adult RF Pipeline",
           "Years of Education"
          ],
          [
           0.24081695331695377,
           "Adult RF Pipeline",
           "Years of Education"
          ],
          [
           0.24081695331695377,
           "Adult RF Pipeline",
           "Years of Education"
          ],
          [
           0.24081695331695377,
           "Adult RF Pipeline",
           "Years of Education"
          ],
          [
           0.24081695331695377,
           "Adult RF Pipeline",
           "Years of Education"
          ],
          [
           0.24081695331695377,
           "Adult RF Pipeline",
           "Years of Education"
          ],
          [
           0.24081695331695377,
           "Adult RF Pipeline",
           "Years of Education"
          ],
          [
           0.24081695331695377,
           "Adult RF Pipeline",
           "Years of Education"
          ],
          [
           0.24081695331695377,
           "Adult RF Pipeline",
           "Years of Education"
          ],
          [
           0.24081695331695377,
           "Adult RF Pipeline",
           "Years of Education"
          ],
          [
           0.24081695331695377,
           "Adult RF Pipeline",
           "Years of Education"
          ],
          [
           0.24081695331695377,
           "Adult RF Pipeline",
           "Years of Education"
          ],
          [
           0.24081695331695377,
           "Adult RF Pipeline",
           "Years of Education"
          ],
          [
           0.24081695331695377,
           "Adult RF Pipeline",
           "Years of Education"
          ],
          [
           0.24081695331695377,
           "Adult RF Pipeline",
           "Years of Education"
          ],
          [
           0.24081695331695377,
           "Adult RF Pipeline",
           "Years of Education"
          ],
          [
           0.24081695331695377,
           "Adult RF Pipeline",
           "Years of Education"
          ],
          [
           0.24081695331695377,
           "Adult RF Pipeline",
           "Years of Education"
          ],
          [
           0.24081695331695377,
           "Adult RF Pipeline",
           "Years of Education"
          ],
          [
           0.24081695331695377,
           "Adult RF Pipeline",
           "Years of Education"
          ],
          [
           0.24081695331695377,
           "Adult RF Pipeline",
           "Years of Education"
          ],
          [
           0.24081695331695377,
           "Adult RF Pipeline",
           "Years of Education"
          ],
          [
           0.24081695331695377,
           "Adult RF Pipeline",
           "Years of Education"
          ],
          [
           0.24081695331695377,
           "Adult RF Pipeline",
           "Years of Education"
          ],
          [
           0.24081695331695377,
           "Adult RF Pipeline",
           "Years of Education"
          ],
          [
           0.24081695331695377,
           "Adult RF Pipeline",
           "Years of Education"
          ],
          [
           0.24081695331695377,
           "Adult RF Pipeline",
           "Years of Education"
          ],
          [
           0.24081695331695377,
           "Adult RF Pipeline",
           "Years of Education"
          ],
          [
           0.24081695331695377,
           "Adult RF Pipeline",
           "Years of Education"
          ],
          [
           0.24081695331695377,
           "Adult RF Pipeline",
           "Years of Education"
          ],
          [
           0.24081695331695377,
           "Adult RF Pipeline",
           "Years of Education"
          ],
          [
           0.24081695331695377,
           "Adult RF Pipeline",
           "Years of Education"
          ],
          [
           0.24081695331695377,
           "Adult RF Pipeline",
           "Years of Education"
          ],
          [
           0.24081695331695377,
           "Adult RF Pipeline",
           "Years of Education"
          ],
          [
           0.24081695331695377,
           "Adult RF Pipeline",
           "Years of Education"
          ],
          [
           0.24081695331695377,
           "Adult RF Pipeline",
           "Years of Education"
          ],
          [
           0.24081695331695377,
           "Adult RF Pipeline",
           "Years of Education"
          ],
          [
           0.24081695331695377,
           "Adult RF Pipeline",
           "Years of Education"
          ],
          [
           0.24081695331695377,
           "Adult RF Pipeline",
           "Years of Education"
          ],
          [
           0.24081695331695377,
           "Adult RF Pipeline",
           "Years of Education"
          ],
          [
           0.24081695331695377,
           "Adult RF Pipeline",
           "Years of Education"
          ],
          [
           0.24081695331695377,
           "Adult RF Pipeline",
           "Years of Education"
          ],
          [
           0.24081695331695377,
           "Adult RF Pipeline",
           "Years of Education"
          ],
          [
           0.24081695331695377,
           "Adult RF Pipeline",
           "Years of Education"
          ],
          [
           0.24081695331695377,
           "Adult RF Pipeline",
           "Years of Education"
          ],
          [
           0.24081695331695377,
           "Adult RF Pipeline",
           "Years of Education"
          ],
          [
           0.24081695331695377,
           "Adult RF Pipeline",
           "Years of Education"
          ],
          [
           0.24081695331695377,
           "Adult RF Pipeline",
           "Years of Education"
          ],
          [
           0.24081695331695377,
           "Adult RF Pipeline",
           "Years of Education"
          ],
          [
           0.24081695331695377,
           "Adult RF Pipeline",
           "Years of Education"
          ],
          [
           0.24081695331695377,
           "Adult RF Pipeline",
           "Years of Education"
          ],
          [
           0.24081695331695377,
           "Adult RF Pipeline",
           "Years of Education"
          ],
          [
           0.24081695331695377,
           "Adult RF Pipeline",
           "Years of Education"
          ],
          [
           0.24081695331695377,
           "Adult RF Pipeline",
           "Years of Education"
          ],
          [
           0.24081695331695377,
           "Adult RF Pipeline",
           "Years of Education"
          ],
          [
           0.24081695331695377,
           "Adult RF Pipeline",
           "Years of Education"
          ],
          [
           0.24081695331695377,
           "Adult RF Pipeline",
           "Years of Education"
          ],
          [
           0.24081695331695377,
           "Adult RF Pipeline",
           "Years of Education"
          ],
          [
           0.24081695331695377,
           "Adult RF Pipeline",
           "Years of Education"
          ],
          [
           0.24081695331695377,
           "Adult RF Pipeline",
           "Years of Education"
          ],
          [
           0.24081695331695377,
           "Adult RF Pipeline",
           "Years of Education"
          ],
          [
           0.24081695331695377,
           "Adult RF Pipeline",
           "Years of Education"
          ],
          [
           0.24081695331695377,
           "Adult RF Pipeline",
           "Years of Education"
          ],
          [
           0.24081695331695377,
           "Adult RF Pipeline",
           "Years of Education"
          ],
          [
           0.24081695331695377,
           "Adult RF Pipeline",
           "Years of Education"
          ],
          [
           0.24081695331695377,
           "Adult RF Pipeline",
           "Years of Education"
          ],
          [
           0.24081695331695377,
           "Adult RF Pipeline",
           "Years of Education"
          ],
          [
           0.24081695331695377,
           "Adult RF Pipeline",
           "Years of Education"
          ],
          [
           0.24081695331695377,
           "Adult RF Pipeline",
           "Years of Education"
          ],
          [
           0.24081695331695377,
           "Adult RF Pipeline",
           "Years of Education"
          ],
          [
           0.24081695331695377,
           "Adult RF Pipeline",
           "Years of Education"
          ],
          [
           0.24081695331695377,
           "Adult RF Pipeline",
           "Years of Education"
          ],
          [
           0.24081695331695377,
           "Adult RF Pipeline",
           "Years of Education"
          ],
          [
           0.24081695331695377,
           "Adult RF Pipeline",
           "Years of Education"
          ],
          [
           0.24081695331695377,
           "Adult RF Pipeline",
           "Years of Education"
          ],
          [
           0.24081695331695377,
           "Adult RF Pipeline",
           "Years of Education"
          ],
          [
           0.24081695331695377,
           "Adult RF Pipeline",
           "Years of Education"
          ],
          [
           0.24081695331695377,
           "Adult RF Pipeline",
           "Years of Education"
          ],
          [
           0.24081695331695377,
           "Adult RF Pipeline",
           "Years of Education"
          ],
          [
           0.24081695331695377,
           "Adult RF Pipeline",
           "Years of Education"
          ],
          [
           0.24081695331695377,
           "Adult RF Pipeline",
           "Years of Education"
          ],
          [
           0.24081695331695377,
           "Adult RF Pipeline",
           "Years of Education"
          ],
          [
           0.24081695331695377,
           "Adult RF Pipeline",
           "Years of Education"
          ],
          [
           0.24081695331695377,
           "Adult RF Pipeline",
           "Years of Education"
          ],
          [
           0.24081695331695377,
           "Adult RF Pipeline",
           "Years of Education"
          ],
          [
           0.24081695331695377,
           "Adult RF Pipeline",
           "Years of Education"
          ]
         ],
         "hovertemplate": "<b>%{hovertext}</b><br><br>prediction=%{y:.3f}<br>mean_prediction=%{customdata[0]:.3f}<extra></extra>",
         "hovertext": [
          "Adult RF Pipeline",
          "Adult RF Pipeline",
          "Adult RF Pipeline",
          "Adult RF Pipeline",
          "Adult RF Pipeline",
          "Adult RF Pipeline",
          "Adult RF Pipeline",
          "Adult RF Pipeline",
          "Adult RF Pipeline",
          "Adult RF Pipeline",
          "Adult RF Pipeline",
          "Adult RF Pipeline",
          "Adult RF Pipeline",
          "Adult RF Pipeline",
          "Adult RF Pipeline",
          "Adult RF Pipeline",
          "Adult RF Pipeline",
          "Adult RF Pipeline",
          "Adult RF Pipeline",
          "Adult RF Pipeline",
          "Adult RF Pipeline",
          "Adult RF Pipeline",
          "Adult RF Pipeline",
          "Adult RF Pipeline",
          "Adult RF Pipeline",
          "Adult RF Pipeline",
          "Adult RF Pipeline",
          "Adult RF Pipeline",
          "Adult RF Pipeline",
          "Adult RF Pipeline",
          "Adult RF Pipeline",
          "Adult RF Pipeline",
          "Adult RF Pipeline",
          "Adult RF Pipeline",
          "Adult RF Pipeline",
          "Adult RF Pipeline",
          "Adult RF Pipeline",
          "Adult RF Pipeline",
          "Adult RF Pipeline",
          "Adult RF Pipeline",
          "Adult RF Pipeline",
          "Adult RF Pipeline",
          "Adult RF Pipeline",
          "Adult RF Pipeline",
          "Adult RF Pipeline",
          "Adult RF Pipeline",
          "Adult RF Pipeline",
          "Adult RF Pipeline",
          "Adult RF Pipeline",
          "Adult RF Pipeline",
          "Adult RF Pipeline",
          "Adult RF Pipeline",
          "Adult RF Pipeline",
          "Adult RF Pipeline",
          "Adult RF Pipeline",
          "Adult RF Pipeline",
          "Adult RF Pipeline",
          "Adult RF Pipeline",
          "Adult RF Pipeline",
          "Adult RF Pipeline",
          "Adult RF Pipeline",
          "Adult RF Pipeline",
          "Adult RF Pipeline",
          "Adult RF Pipeline",
          "Adult RF Pipeline",
          "Adult RF Pipeline",
          "Adult RF Pipeline",
          "Adult RF Pipeline",
          "Adult RF Pipeline",
          "Adult RF Pipeline",
          "Adult RF Pipeline",
          "Adult RF Pipeline",
          "Adult RF Pipeline",
          "Adult RF Pipeline",
          "Adult RF Pipeline",
          "Adult RF Pipeline",
          "Adult RF Pipeline",
          "Adult RF Pipeline",
          "Adult RF Pipeline",
          "Adult RF Pipeline",
          "Adult RF Pipeline",
          "Adult RF Pipeline",
          "Adult RF Pipeline",
          "Adult RF Pipeline",
          "Adult RF Pipeline",
          "Adult RF Pipeline",
          "Adult RF Pipeline",
          "Adult RF Pipeline",
          "Adult RF Pipeline",
          "Adult RF Pipeline",
          "Adult RF Pipeline",
          "Adult RF Pipeline",
          "Adult RF Pipeline",
          "Adult RF Pipeline",
          "Adult RF Pipeline",
          "Adult RF Pipeline",
          "Adult RF Pipeline",
          "Adult RF Pipeline",
          "Adult RF Pipeline",
          "Adult RF Pipeline",
          "Adult RF Pipeline"
         ],
         "legendgroup": "Adult RF Pipeline",
         "line": {
          "color": "#46bac2",
          "dash": "solid",
          "width": 2
         },
         "mode": "lines",
         "name": "Adult RF Pipeline",
         "opacity": 1,
         "orientation": "v",
         "showlegend": false,
         "type": "scatter",
         "x": [
          1,
          1.15,
          1.3,
          1.45,
          1.6,
          1.75,
          1.9,
          2.05,
          2.2,
          2.3499999999999996,
          2.5,
          2.65,
          2.8,
          2.95,
          3.1,
          3.25,
          3.4,
          3.55,
          3.6999999999999997,
          3.85,
          4,
          4.15,
          4.3,
          4.449999999999999,
          4.6,
          4.75,
          4.9,
          5.05,
          5.2,
          5.35,
          5.5,
          5.6499999999999995,
          5.8,
          5.95,
          6.1,
          6.25,
          6.3999999999999995,
          6.55,
          6.7,
          6.85,
          7,
          7.1499999999999995,
          7.3,
          7.45,
          7.6,
          7.75,
          7.8999999999999995,
          8.05,
          8.2,
          8.35,
          8.5,
          8.649999999999999,
          8.8,
          8.95,
          9.1,
          9.25,
          9.4,
          9.549999999999999,
          9.7,
          9.85,
          10,
          10.15,
          10.299999999999999,
          10.45,
          10.6,
          10.75,
          10.9,
          11.049999999999999,
          11.2,
          11.35,
          11.5,
          11.65,
          11.799999999999999,
          11.95,
          12.1,
          12.25,
          12.4,
          12.549999999999999,
          12.7,
          12.85,
          13,
          13.15,
          13.299999999999999,
          13.45,
          13.6,
          13.75,
          13.9,
          14.049999999999999,
          14.2,
          14.35,
          14.5,
          14.65,
          14.799999999999999,
          14.95,
          15.1,
          15.25,
          15.399999999999999,
          15.549999999999999,
          15.7,
          15.85,
          16
         ],
         "xaxis": "x3",
         "y": [
          0.24081695331695258,
          0.24081695331695258,
          0.24081695331695258,
          0.24081695331695258,
          0.24081695331695258,
          0.24081695331695258,
          0.24081695331695258,
          0.24081695331695258,
          0.24081695331695258,
          0.24081695331695258,
          0.24081695331695258,
          0.24081695331695258,
          0.24081695331695258,
          0.24081695331695258,
          0.24081695331695258,
          0.24081695331695258,
          0.24081695331695258,
          0.24081695331695258,
          0.24081695331695258,
          0.24081695331695258,
          0.24081695331695258,
          0.24081695331695258,
          0.24081695331695258,
          0.24081695331695258,
          0.24081695331695258,
          0.24081695331695258,
          0.24081695331695258,
          0.24081695331695258,
          0.24081695331695258,
          0.24081695331695258,
          0.24081695331695258,
          0.24081695331695258,
          0.24081695331695258,
          0.24081695331695258,
          0.24081695331695258,
          0.24081695331695258,
          0.24081695331695258,
          0.24081695331695258,
          0.24081695331695258,
          0.24081695331695258,
          0.24081695331695258,
          0.24081695331695258,
          0.24081695331695258,
          0.24081695331695258,
          0.24081695331695258,
          0.24081695331695258,
          0.24081695331695258,
          0.24081695331695258,
          0.24081695331695258,
          0.24081695331695258,
          0.24081695331695258,
          0.24081695331695258,
          0.24081695331695258,
          0.24081695331695258,
          0.24081695331695258,
          0.24081695331695258,
          0.24081695331695258,
          0.24081695331695258,
          0.24081695331695258,
          0.24081695331695258,
          0.24081695331695258,
          0.24081695331695258,
          0.24081695331695258,
          0.24081695331695258,
          0.24081695331695258,
          0.24081695331695258,
          0.24081695331695258,
          0.24081695331695258,
          0.24081695331695258,
          0.24081695331695258,
          0.24081695331695258,
          0.24081695331695258,
          0.24081695331695258,
          0.24081695331695258,
          0.24081695331695258,
          0.24081695331695258,
          0.24081695331695258,
          0.24081695331695258,
          0.24081695331695258,
          0.24081695331695258,
          0.24081695331695258,
          0.24081695331695258,
          0.24081695331695258,
          0.24081695331695258,
          0.24081695331695258,
          0.24081695331695258,
          0.24081695331695258,
          0.24081695331695258,
          0.24081695331695258,
          0.24081695331695258,
          0.24081695331695258,
          0.24081695331695258,
          0.24081695331695258,
          0.24081695331695258,
          0.24081695331695258,
          0.24081695331695258,
          0.24081695331695258,
          0.24081695331695258,
          0.24081695331695258,
          0.24081695331695258,
          0.24081695331695258
         ],
         "yaxis": "y3"
        },
        {
         "customdata": [
          [
           0.24081695331695377,
           "Adult RF Pipeline",
           "Capital Gain"
          ],
          [
           0.24081695331695377,
           "Adult RF Pipeline",
           "Capital Gain"
          ],
          [
           0.24081695331695377,
           "Adult RF Pipeline",
           "Capital Gain"
          ],
          [
           0.24081695331695377,
           "Adult RF Pipeline",
           "Capital Gain"
          ],
          [
           0.24081695331695377,
           "Adult RF Pipeline",
           "Capital Gain"
          ],
          [
           0.24081695331695377,
           "Adult RF Pipeline",
           "Capital Gain"
          ],
          [
           0.24081695331695377,
           "Adult RF Pipeline",
           "Capital Gain"
          ],
          [
           0.24081695331695377,
           "Adult RF Pipeline",
           "Capital Gain"
          ],
          [
           0.24081695331695377,
           "Adult RF Pipeline",
           "Capital Gain"
          ],
          [
           0.24081695331695377,
           "Adult RF Pipeline",
           "Capital Gain"
          ],
          [
           0.24081695331695377,
           "Adult RF Pipeline",
           "Capital Gain"
          ],
          [
           0.24081695331695377,
           "Adult RF Pipeline",
           "Capital Gain"
          ],
          [
           0.24081695331695377,
           "Adult RF Pipeline",
           "Capital Gain"
          ],
          [
           0.24081695331695377,
           "Adult RF Pipeline",
           "Capital Gain"
          ],
          [
           0.24081695331695377,
           "Adult RF Pipeline",
           "Capital Gain"
          ],
          [
           0.24081695331695377,
           "Adult RF Pipeline",
           "Capital Gain"
          ],
          [
           0.24081695331695377,
           "Adult RF Pipeline",
           "Capital Gain"
          ],
          [
           0.24081695331695377,
           "Adult RF Pipeline",
           "Capital Gain"
          ],
          [
           0.24081695331695377,
           "Adult RF Pipeline",
           "Capital Gain"
          ],
          [
           0.24081695331695377,
           "Adult RF Pipeline",
           "Capital Gain"
          ],
          [
           0.24081695331695377,
           "Adult RF Pipeline",
           "Capital Gain"
          ],
          [
           0.24081695331695377,
           "Adult RF Pipeline",
           "Capital Gain"
          ],
          [
           0.24081695331695377,
           "Adult RF Pipeline",
           "Capital Gain"
          ],
          [
           0.24081695331695377,
           "Adult RF Pipeline",
           "Capital Gain"
          ],
          [
           0.24081695331695377,
           "Adult RF Pipeline",
           "Capital Gain"
          ],
          [
           0.24081695331695377,
           "Adult RF Pipeline",
           "Capital Gain"
          ],
          [
           0.24081695331695377,
           "Adult RF Pipeline",
           "Capital Gain"
          ],
          [
           0.24081695331695377,
           "Adult RF Pipeline",
           "Capital Gain"
          ],
          [
           0.24081695331695377,
           "Adult RF Pipeline",
           "Capital Gain"
          ],
          [
           0.24081695331695377,
           "Adult RF Pipeline",
           "Capital Gain"
          ],
          [
           0.24081695331695377,
           "Adult RF Pipeline",
           "Capital Gain"
          ],
          [
           0.24081695331695377,
           "Adult RF Pipeline",
           "Capital Gain"
          ],
          [
           0.24081695331695377,
           "Adult RF Pipeline",
           "Capital Gain"
          ],
          [
           0.24081695331695377,
           "Adult RF Pipeline",
           "Capital Gain"
          ],
          [
           0.24081695331695377,
           "Adult RF Pipeline",
           "Capital Gain"
          ],
          [
           0.24081695331695377,
           "Adult RF Pipeline",
           "Capital Gain"
          ],
          [
           0.24081695331695377,
           "Adult RF Pipeline",
           "Capital Gain"
          ],
          [
           0.24081695331695377,
           "Adult RF Pipeline",
           "Capital Gain"
          ],
          [
           0.24081695331695377,
           "Adult RF Pipeline",
           "Capital Gain"
          ],
          [
           0.24081695331695377,
           "Adult RF Pipeline",
           "Capital Gain"
          ],
          [
           0.24081695331695377,
           "Adult RF Pipeline",
           "Capital Gain"
          ],
          [
           0.24081695331695377,
           "Adult RF Pipeline",
           "Capital Gain"
          ],
          [
           0.24081695331695377,
           "Adult RF Pipeline",
           "Capital Gain"
          ],
          [
           0.24081695331695377,
           "Adult RF Pipeline",
           "Capital Gain"
          ],
          [
           0.24081695331695377,
           "Adult RF Pipeline",
           "Capital Gain"
          ],
          [
           0.24081695331695377,
           "Adult RF Pipeline",
           "Capital Gain"
          ],
          [
           0.24081695331695377,
           "Adult RF Pipeline",
           "Capital Gain"
          ],
          [
           0.24081695331695377,
           "Adult RF Pipeline",
           "Capital Gain"
          ],
          [
           0.24081695331695377,
           "Adult RF Pipeline",
           "Capital Gain"
          ],
          [
           0.24081695331695377,
           "Adult RF Pipeline",
           "Capital Gain"
          ],
          [
           0.24081695331695377,
           "Adult RF Pipeline",
           "Capital Gain"
          ],
          [
           0.24081695331695377,
           "Adult RF Pipeline",
           "Capital Gain"
          ],
          [
           0.24081695331695377,
           "Adult RF Pipeline",
           "Capital Gain"
          ],
          [
           0.24081695331695377,
           "Adult RF Pipeline",
           "Capital Gain"
          ],
          [
           0.24081695331695377,
           "Adult RF Pipeline",
           "Capital Gain"
          ],
          [
           0.24081695331695377,
           "Adult RF Pipeline",
           "Capital Gain"
          ],
          [
           0.24081695331695377,
           "Adult RF Pipeline",
           "Capital Gain"
          ],
          [
           0.24081695331695377,
           "Adult RF Pipeline",
           "Capital Gain"
          ],
          [
           0.24081695331695377,
           "Adult RF Pipeline",
           "Capital Gain"
          ],
          [
           0.24081695331695377,
           "Adult RF Pipeline",
           "Capital Gain"
          ],
          [
           0.24081695331695377,
           "Adult RF Pipeline",
           "Capital Gain"
          ],
          [
           0.24081695331695377,
           "Adult RF Pipeline",
           "Capital Gain"
          ],
          [
           0.24081695331695377,
           "Adult RF Pipeline",
           "Capital Gain"
          ],
          [
           0.24081695331695377,
           "Adult RF Pipeline",
           "Capital Gain"
          ],
          [
           0.24081695331695377,
           "Adult RF Pipeline",
           "Capital Gain"
          ],
          [
           0.24081695331695377,
           "Adult RF Pipeline",
           "Capital Gain"
          ],
          [
           0.24081695331695377,
           "Adult RF Pipeline",
           "Capital Gain"
          ],
          [
           0.24081695331695377,
           "Adult RF Pipeline",
           "Capital Gain"
          ],
          [
           0.24081695331695377,
           "Adult RF Pipeline",
           "Capital Gain"
          ],
          [
           0.24081695331695377,
           "Adult RF Pipeline",
           "Capital Gain"
          ],
          [
           0.24081695331695377,
           "Adult RF Pipeline",
           "Capital Gain"
          ],
          [
           0.24081695331695377,
           "Adult RF Pipeline",
           "Capital Gain"
          ],
          [
           0.24081695331695377,
           "Adult RF Pipeline",
           "Capital Gain"
          ],
          [
           0.24081695331695377,
           "Adult RF Pipeline",
           "Capital Gain"
          ],
          [
           0.24081695331695377,
           "Adult RF Pipeline",
           "Capital Gain"
          ],
          [
           0.24081695331695377,
           "Adult RF Pipeline",
           "Capital Gain"
          ],
          [
           0.24081695331695377,
           "Adult RF Pipeline",
           "Capital Gain"
          ],
          [
           0.24081695331695377,
           "Adult RF Pipeline",
           "Capital Gain"
          ],
          [
           0.24081695331695377,
           "Adult RF Pipeline",
           "Capital Gain"
          ],
          [
           0.24081695331695377,
           "Adult RF Pipeline",
           "Capital Gain"
          ],
          [
           0.24081695331695377,
           "Adult RF Pipeline",
           "Capital Gain"
          ],
          [
           0.24081695331695377,
           "Adult RF Pipeline",
           "Capital Gain"
          ],
          [
           0.24081695331695377,
           "Adult RF Pipeline",
           "Capital Gain"
          ],
          [
           0.24081695331695377,
           "Adult RF Pipeline",
           "Capital Gain"
          ],
          [
           0.24081695331695377,
           "Adult RF Pipeline",
           "Capital Gain"
          ],
          [
           0.24081695331695377,
           "Adult RF Pipeline",
           "Capital Gain"
          ],
          [
           0.24081695331695377,
           "Adult RF Pipeline",
           "Capital Gain"
          ],
          [
           0.24081695331695377,
           "Adult RF Pipeline",
           "Capital Gain"
          ],
          [
           0.24081695331695377,
           "Adult RF Pipeline",
           "Capital Gain"
          ],
          [
           0.24081695331695377,
           "Adult RF Pipeline",
           "Capital Gain"
          ],
          [
           0.24081695331695377,
           "Adult RF Pipeline",
           "Capital Gain"
          ],
          [
           0.24081695331695377,
           "Adult RF Pipeline",
           "Capital Gain"
          ],
          [
           0.24081695331695377,
           "Adult RF Pipeline",
           "Capital Gain"
          ],
          [
           0.24081695331695377,
           "Adult RF Pipeline",
           "Capital Gain"
          ],
          [
           0.24081695331695377,
           "Adult RF Pipeline",
           "Capital Gain"
          ],
          [
           0.24081695331695377,
           "Adult RF Pipeline",
           "Capital Gain"
          ],
          [
           0.24081695331695377,
           "Adult RF Pipeline",
           "Capital Gain"
          ],
          [
           0.24081695331695377,
           "Adult RF Pipeline",
           "Capital Gain"
          ],
          [
           0.24081695331695377,
           "Adult RF Pipeline",
           "Capital Gain"
          ],
          [
           0.24081695331695377,
           "Adult RF Pipeline",
           "Capital Gain"
          ],
          [
           0.24081695331695377,
           "Adult RF Pipeline",
           "Capital Gain"
          ]
         ],
         "hovertemplate": "<b>%{hovertext}</b><br><br>prediction=%{y:.3f}<br>mean_prediction=%{customdata[0]:.3f}<extra></extra>",
         "hovertext": [
          "Adult RF Pipeline",
          "Adult RF Pipeline",
          "Adult RF Pipeline",
          "Adult RF Pipeline",
          "Adult RF Pipeline",
          "Adult RF Pipeline",
          "Adult RF Pipeline",
          "Adult RF Pipeline",
          "Adult RF Pipeline",
          "Adult RF Pipeline",
          "Adult RF Pipeline",
          "Adult RF Pipeline",
          "Adult RF Pipeline",
          "Adult RF Pipeline",
          "Adult RF Pipeline",
          "Adult RF Pipeline",
          "Adult RF Pipeline",
          "Adult RF Pipeline",
          "Adult RF Pipeline",
          "Adult RF Pipeline",
          "Adult RF Pipeline",
          "Adult RF Pipeline",
          "Adult RF Pipeline",
          "Adult RF Pipeline",
          "Adult RF Pipeline",
          "Adult RF Pipeline",
          "Adult RF Pipeline",
          "Adult RF Pipeline",
          "Adult RF Pipeline",
          "Adult RF Pipeline",
          "Adult RF Pipeline",
          "Adult RF Pipeline",
          "Adult RF Pipeline",
          "Adult RF Pipeline",
          "Adult RF Pipeline",
          "Adult RF Pipeline",
          "Adult RF Pipeline",
          "Adult RF Pipeline",
          "Adult RF Pipeline",
          "Adult RF Pipeline",
          "Adult RF Pipeline",
          "Adult RF Pipeline",
          "Adult RF Pipeline",
          "Adult RF Pipeline",
          "Adult RF Pipeline",
          "Adult RF Pipeline",
          "Adult RF Pipeline",
          "Adult RF Pipeline",
          "Adult RF Pipeline",
          "Adult RF Pipeline",
          "Adult RF Pipeline",
          "Adult RF Pipeline",
          "Adult RF Pipeline",
          "Adult RF Pipeline",
          "Adult RF Pipeline",
          "Adult RF Pipeline",
          "Adult RF Pipeline",
          "Adult RF Pipeline",
          "Adult RF Pipeline",
          "Adult RF Pipeline",
          "Adult RF Pipeline",
          "Adult RF Pipeline",
          "Adult RF Pipeline",
          "Adult RF Pipeline",
          "Adult RF Pipeline",
          "Adult RF Pipeline",
          "Adult RF Pipeline",
          "Adult RF Pipeline",
          "Adult RF Pipeline",
          "Adult RF Pipeline",
          "Adult RF Pipeline",
          "Adult RF Pipeline",
          "Adult RF Pipeline",
          "Adult RF Pipeline",
          "Adult RF Pipeline",
          "Adult RF Pipeline",
          "Adult RF Pipeline",
          "Adult RF Pipeline",
          "Adult RF Pipeline",
          "Adult RF Pipeline",
          "Adult RF Pipeline",
          "Adult RF Pipeline",
          "Adult RF Pipeline",
          "Adult RF Pipeline",
          "Adult RF Pipeline",
          "Adult RF Pipeline",
          "Adult RF Pipeline",
          "Adult RF Pipeline",
          "Adult RF Pipeline",
          "Adult RF Pipeline",
          "Adult RF Pipeline",
          "Adult RF Pipeline",
          "Adult RF Pipeline",
          "Adult RF Pipeline",
          "Adult RF Pipeline",
          "Adult RF Pipeline",
          "Adult RF Pipeline",
          "Adult RF Pipeline",
          "Adult RF Pipeline",
          "Adult RF Pipeline",
          "Adult RF Pipeline"
         ],
         "legendgroup": "Adult RF Pipeline",
         "line": {
          "color": "#46bac2",
          "dash": "solid",
          "width": 2
         },
         "mode": "lines",
         "name": "Adult RF Pipeline",
         "opacity": 1,
         "orientation": "v",
         "showlegend": false,
         "type": "scatter",
         "x": [
          0,
          999.99,
          1999.98,
          2999.9700000000003,
          3999.96,
          4999.95,
          5999.9400000000005,
          6999.93,
          7999.92,
          8999.91,
          9999.9,
          10999.89,
          11999.880000000001,
          12999.87,
          13999.86,
          14999.85,
          15999.84,
          16999.83,
          17999.82,
          18999.81,
          19999.8,
          20999.79,
          21999.78,
          22999.77,
          23999.760000000002,
          24999.75,
          25999.74,
          26999.73,
          27999.72,
          28999.71,
          29999.7,
          30999.69,
          31999.68,
          32999.67,
          33999.66,
          34999.65,
          35999.64,
          36999.63,
          37999.62,
          38999.61,
          39999.6,
          40999.590000000004,
          41999.58,
          42999.57,
          43999.56,
          44999.55,
          45999.54,
          46999.53,
          47999.520000000004,
          48999.51,
          49999.5,
          50999.49,
          51999.48,
          52999.47,
          53999.46,
          54999.45,
          55999.44,
          56999.43,
          57999.42,
          58999.41,
          59999.4,
          60999.39,
          61999.38,
          62999.37,
          63999.36,
          64999.35,
          65999.34,
          66999.33,
          67999.32,
          68999.31,
          69999.3,
          70999.29,
          71999.28,
          72999.27,
          73999.26,
          74999.25,
          75999.24,
          76999.23,
          77999.22,
          78999.21,
          79999.2,
          80999.19,
          81999.18000000001,
          82999.17,
          83999.16,
          84999.15,
          85999.14,
          86999.13,
          87999.12,
          88999.11,
          89999.1,
          90999.09,
          91999.08,
          92999.07,
          93999.06,
          94999.05,
          95999.04000000001,
          96999.03,
          97999.02,
          98999.01,
          99999
         ],
         "xaxis": "x4",
         "y": [
          0.24081695331695258,
          0.24081695331695258,
          0.24081695331695258,
          0.24081695331695258,
          0.24081695331695258,
          0.24081695331695258,
          0.24081695331695258,
          0.24081695331695258,
          0.24081695331695258,
          0.24081695331695258,
          0.24081695331695258,
          0.24081695331695258,
          0.24081695331695258,
          0.24081695331695258,
          0.24081695331695258,
          0.24081695331695258,
          0.24081695331695258,
          0.24081695331695258,
          0.24081695331695258,
          0.24081695331695258,
          0.24081695331695258,
          0.24081695331695258,
          0.24081695331695258,
          0.24081695331695258,
          0.24081695331695258,
          0.24081695331695258,
          0.24081695331695258,
          0.24081695331695258,
          0.24081695331695258,
          0.24081695331695258,
          0.24081695331695258,
          0.24081695331695258,
          0.24081695331695258,
          0.24081695331695258,
          0.24081695331695258,
          0.24081695331695258,
          0.24081695331695258,
          0.24081695331695258,
          0.24081695331695258,
          0.24081695331695258,
          0.24081695331695258,
          0.24081695331695258,
          0.24081695331695258,
          0.24081695331695258,
          0.24081695331695258,
          0.24081695331695258,
          0.24081695331695258,
          0.24081695331695258,
          0.24081695331695258,
          0.24081695331695258,
          0.24081695331695258,
          0.24081695331695258,
          0.24081695331695258,
          0.24081695331695258,
          0.24081695331695258,
          0.24081695331695258,
          0.24081695331695258,
          0.24081695331695258,
          0.24081695331695258,
          0.24081695331695258,
          0.24081695331695258,
          0.24081695331695258,
          0.24081695331695258,
          0.24081695331695258,
          0.24081695331695258,
          0.24081695331695258,
          0.24081695331695258,
          0.24081695331695258,
          0.24081695331695258,
          0.24081695331695258,
          0.24081695331695258,
          0.24081695331695258,
          0.24081695331695258,
          0.24081695331695258,
          0.24081695331695258,
          0.24081695331695258,
          0.24081695331695258,
          0.24081695331695258,
          0.24081695331695258,
          0.24081695331695258,
          0.24081695331695258,
          0.24081695331695258,
          0.24081695331695258,
          0.24081695331695258,
          0.24081695331695258,
          0.24081695331695258,
          0.24081695331695258,
          0.24081695331695258,
          0.24081695331695258,
          0.24081695331695258,
          0.24081695331695258,
          0.24081695331695258,
          0.24081695331695258,
          0.24081695331695258,
          0.24081695331695258,
          0.24081695331695258,
          0.24081695331695258,
          0.24081695331695258,
          0.24081695331695258,
          0.24081695331695258,
          0.24081695331695258
         ],
         "yaxis": "y4"
        },
        {
         "customdata": [
          [
           0.24081695331695377,
           "Adult RF Pipeline",
           "Capital Loss"
          ],
          [
           0.24081695331695377,
           "Adult RF Pipeline",
           "Capital Loss"
          ],
          [
           0.24081695331695377,
           "Adult RF Pipeline",
           "Capital Loss"
          ],
          [
           0.24081695331695377,
           "Adult RF Pipeline",
           "Capital Loss"
          ],
          [
           0.24081695331695377,
           "Adult RF Pipeline",
           "Capital Loss"
          ],
          [
           0.24081695331695377,
           "Adult RF Pipeline",
           "Capital Loss"
          ],
          [
           0.24081695331695377,
           "Adult RF Pipeline",
           "Capital Loss"
          ],
          [
           0.24081695331695377,
           "Adult RF Pipeline",
           "Capital Loss"
          ],
          [
           0.24081695331695377,
           "Adult RF Pipeline",
           "Capital Loss"
          ],
          [
           0.24081695331695377,
           "Adult RF Pipeline",
           "Capital Loss"
          ],
          [
           0.24081695331695377,
           "Adult RF Pipeline",
           "Capital Loss"
          ],
          [
           0.24081695331695377,
           "Adult RF Pipeline",
           "Capital Loss"
          ],
          [
           0.24081695331695377,
           "Adult RF Pipeline",
           "Capital Loss"
          ],
          [
           0.24081695331695377,
           "Adult RF Pipeline",
           "Capital Loss"
          ],
          [
           0.24081695331695377,
           "Adult RF Pipeline",
           "Capital Loss"
          ],
          [
           0.24081695331695377,
           "Adult RF Pipeline",
           "Capital Loss"
          ],
          [
           0.24081695331695377,
           "Adult RF Pipeline",
           "Capital Loss"
          ],
          [
           0.24081695331695377,
           "Adult RF Pipeline",
           "Capital Loss"
          ],
          [
           0.24081695331695377,
           "Adult RF Pipeline",
           "Capital Loss"
          ],
          [
           0.24081695331695377,
           "Adult RF Pipeline",
           "Capital Loss"
          ],
          [
           0.24081695331695377,
           "Adult RF Pipeline",
           "Capital Loss"
          ],
          [
           0.24081695331695377,
           "Adult RF Pipeline",
           "Capital Loss"
          ],
          [
           0.24081695331695377,
           "Adult RF Pipeline",
           "Capital Loss"
          ],
          [
           0.24081695331695377,
           "Adult RF Pipeline",
           "Capital Loss"
          ],
          [
           0.24081695331695377,
           "Adult RF Pipeline",
           "Capital Loss"
          ],
          [
           0.24081695331695377,
           "Adult RF Pipeline",
           "Capital Loss"
          ],
          [
           0.24081695331695377,
           "Adult RF Pipeline",
           "Capital Loss"
          ],
          [
           0.24081695331695377,
           "Adult RF Pipeline",
           "Capital Loss"
          ],
          [
           0.24081695331695377,
           "Adult RF Pipeline",
           "Capital Loss"
          ],
          [
           0.24081695331695377,
           "Adult RF Pipeline",
           "Capital Loss"
          ],
          [
           0.24081695331695377,
           "Adult RF Pipeline",
           "Capital Loss"
          ],
          [
           0.24081695331695377,
           "Adult RF Pipeline",
           "Capital Loss"
          ],
          [
           0.24081695331695377,
           "Adult RF Pipeline",
           "Capital Loss"
          ],
          [
           0.24081695331695377,
           "Adult RF Pipeline",
           "Capital Loss"
          ],
          [
           0.24081695331695377,
           "Adult RF Pipeline",
           "Capital Loss"
          ],
          [
           0.24081695331695377,
           "Adult RF Pipeline",
           "Capital Loss"
          ],
          [
           0.24081695331695377,
           "Adult RF Pipeline",
           "Capital Loss"
          ],
          [
           0.24081695331695377,
           "Adult RF Pipeline",
           "Capital Loss"
          ],
          [
           0.24081695331695377,
           "Adult RF Pipeline",
           "Capital Loss"
          ],
          [
           0.24081695331695377,
           "Adult RF Pipeline",
           "Capital Loss"
          ],
          [
           0.24081695331695377,
           "Adult RF Pipeline",
           "Capital Loss"
          ],
          [
           0.24081695331695377,
           "Adult RF Pipeline",
           "Capital Loss"
          ],
          [
           0.24081695331695377,
           "Adult RF Pipeline",
           "Capital Loss"
          ],
          [
           0.24081695331695377,
           "Adult RF Pipeline",
           "Capital Loss"
          ],
          [
           0.24081695331695377,
           "Adult RF Pipeline",
           "Capital Loss"
          ],
          [
           0.24081695331695377,
           "Adult RF Pipeline",
           "Capital Loss"
          ],
          [
           0.24081695331695377,
           "Adult RF Pipeline",
           "Capital Loss"
          ],
          [
           0.24081695331695377,
           "Adult RF Pipeline",
           "Capital Loss"
          ],
          [
           0.24081695331695377,
           "Adult RF Pipeline",
           "Capital Loss"
          ],
          [
           0.24081695331695377,
           "Adult RF Pipeline",
           "Capital Loss"
          ],
          [
           0.24081695331695377,
           "Adult RF Pipeline",
           "Capital Loss"
          ],
          [
           0.24081695331695377,
           "Adult RF Pipeline",
           "Capital Loss"
          ],
          [
           0.24081695331695377,
           "Adult RF Pipeline",
           "Capital Loss"
          ],
          [
           0.24081695331695377,
           "Adult RF Pipeline",
           "Capital Loss"
          ],
          [
           0.24081695331695377,
           "Adult RF Pipeline",
           "Capital Loss"
          ],
          [
           0.24081695331695377,
           "Adult RF Pipeline",
           "Capital Loss"
          ],
          [
           0.24081695331695377,
           "Adult RF Pipeline",
           "Capital Loss"
          ],
          [
           0.24081695331695377,
           "Adult RF Pipeline",
           "Capital Loss"
          ],
          [
           0.24081695331695377,
           "Adult RF Pipeline",
           "Capital Loss"
          ],
          [
           0.24081695331695377,
           "Adult RF Pipeline",
           "Capital Loss"
          ],
          [
           0.24081695331695377,
           "Adult RF Pipeline",
           "Capital Loss"
          ],
          [
           0.24081695331695377,
           "Adult RF Pipeline",
           "Capital Loss"
          ],
          [
           0.24081695331695377,
           "Adult RF Pipeline",
           "Capital Loss"
          ],
          [
           0.24081695331695377,
           "Adult RF Pipeline",
           "Capital Loss"
          ],
          [
           0.24081695331695377,
           "Adult RF Pipeline",
           "Capital Loss"
          ],
          [
           0.24081695331695377,
           "Adult RF Pipeline",
           "Capital Loss"
          ],
          [
           0.24081695331695377,
           "Adult RF Pipeline",
           "Capital Loss"
          ],
          [
           0.24081695331695377,
           "Adult RF Pipeline",
           "Capital Loss"
          ],
          [
           0.24081695331695377,
           "Adult RF Pipeline",
           "Capital Loss"
          ],
          [
           0.24081695331695377,
           "Adult RF Pipeline",
           "Capital Loss"
          ],
          [
           0.24081695331695377,
           "Adult RF Pipeline",
           "Capital Loss"
          ],
          [
           0.24081695331695377,
           "Adult RF Pipeline",
           "Capital Loss"
          ],
          [
           0.24081695331695377,
           "Adult RF Pipeline",
           "Capital Loss"
          ],
          [
           0.24081695331695377,
           "Adult RF Pipeline",
           "Capital Loss"
          ],
          [
           0.24081695331695377,
           "Adult RF Pipeline",
           "Capital Loss"
          ],
          [
           0.24081695331695377,
           "Adult RF Pipeline",
           "Capital Loss"
          ],
          [
           0.24081695331695377,
           "Adult RF Pipeline",
           "Capital Loss"
          ],
          [
           0.24081695331695377,
           "Adult RF Pipeline",
           "Capital Loss"
          ],
          [
           0.24081695331695377,
           "Adult RF Pipeline",
           "Capital Loss"
          ],
          [
           0.24081695331695377,
           "Adult RF Pipeline",
           "Capital Loss"
          ],
          [
           0.24081695331695377,
           "Adult RF Pipeline",
           "Capital Loss"
          ],
          [
           0.24081695331695377,
           "Adult RF Pipeline",
           "Capital Loss"
          ],
          [
           0.24081695331695377,
           "Adult RF Pipeline",
           "Capital Loss"
          ],
          [
           0.24081695331695377,
           "Adult RF Pipeline",
           "Capital Loss"
          ],
          [
           0.24081695331695377,
           "Adult RF Pipeline",
           "Capital Loss"
          ],
          [
           0.24081695331695377,
           "Adult RF Pipeline",
           "Capital Loss"
          ],
          [
           0.24081695331695377,
           "Adult RF Pipeline",
           "Capital Loss"
          ],
          [
           0.24081695331695377,
           "Adult RF Pipeline",
           "Capital Loss"
          ],
          [
           0.24081695331695377,
           "Adult RF Pipeline",
           "Capital Loss"
          ],
          [
           0.24081695331695377,
           "Adult RF Pipeline",
           "Capital Loss"
          ],
          [
           0.24081695331695377,
           "Adult RF Pipeline",
           "Capital Loss"
          ],
          [
           0.24081695331695377,
           "Adult RF Pipeline",
           "Capital Loss"
          ],
          [
           0.24081695331695377,
           "Adult RF Pipeline",
           "Capital Loss"
          ],
          [
           0.24081695331695377,
           "Adult RF Pipeline",
           "Capital Loss"
          ],
          [
           0.24081695331695377,
           "Adult RF Pipeline",
           "Capital Loss"
          ],
          [
           0.24081695331695377,
           "Adult RF Pipeline",
           "Capital Loss"
          ],
          [
           0.24081695331695377,
           "Adult RF Pipeline",
           "Capital Loss"
          ],
          [
           0.24081695331695377,
           "Adult RF Pipeline",
           "Capital Loss"
          ],
          [
           0.24081695331695377,
           "Adult RF Pipeline",
           "Capital Loss"
          ],
          [
           0.24081695331695377,
           "Adult RF Pipeline",
           "Capital Loss"
          ],
          [
           0.24081695331695377,
           "Adult RF Pipeline",
           "Capital Loss"
          ]
         ],
         "hovertemplate": "<b>%{hovertext}</b><br><br>prediction=%{y:.3f}<br>mean_prediction=%{customdata[0]:.3f}<extra></extra>",
         "hovertext": [
          "Adult RF Pipeline",
          "Adult RF Pipeline",
          "Adult RF Pipeline",
          "Adult RF Pipeline",
          "Adult RF Pipeline",
          "Adult RF Pipeline",
          "Adult RF Pipeline",
          "Adult RF Pipeline",
          "Adult RF Pipeline",
          "Adult RF Pipeline",
          "Adult RF Pipeline",
          "Adult RF Pipeline",
          "Adult RF Pipeline",
          "Adult RF Pipeline",
          "Adult RF Pipeline",
          "Adult RF Pipeline",
          "Adult RF Pipeline",
          "Adult RF Pipeline",
          "Adult RF Pipeline",
          "Adult RF Pipeline",
          "Adult RF Pipeline",
          "Adult RF Pipeline",
          "Adult RF Pipeline",
          "Adult RF Pipeline",
          "Adult RF Pipeline",
          "Adult RF Pipeline",
          "Adult RF Pipeline",
          "Adult RF Pipeline",
          "Adult RF Pipeline",
          "Adult RF Pipeline",
          "Adult RF Pipeline",
          "Adult RF Pipeline",
          "Adult RF Pipeline",
          "Adult RF Pipeline",
          "Adult RF Pipeline",
          "Adult RF Pipeline",
          "Adult RF Pipeline",
          "Adult RF Pipeline",
          "Adult RF Pipeline",
          "Adult RF Pipeline",
          "Adult RF Pipeline",
          "Adult RF Pipeline",
          "Adult RF Pipeline",
          "Adult RF Pipeline",
          "Adult RF Pipeline",
          "Adult RF Pipeline",
          "Adult RF Pipeline",
          "Adult RF Pipeline",
          "Adult RF Pipeline",
          "Adult RF Pipeline",
          "Adult RF Pipeline",
          "Adult RF Pipeline",
          "Adult RF Pipeline",
          "Adult RF Pipeline",
          "Adult RF Pipeline",
          "Adult RF Pipeline",
          "Adult RF Pipeline",
          "Adult RF Pipeline",
          "Adult RF Pipeline",
          "Adult RF Pipeline",
          "Adult RF Pipeline",
          "Adult RF Pipeline",
          "Adult RF Pipeline",
          "Adult RF Pipeline",
          "Adult RF Pipeline",
          "Adult RF Pipeline",
          "Adult RF Pipeline",
          "Adult RF Pipeline",
          "Adult RF Pipeline",
          "Adult RF Pipeline",
          "Adult RF Pipeline",
          "Adult RF Pipeline",
          "Adult RF Pipeline",
          "Adult RF Pipeline",
          "Adult RF Pipeline",
          "Adult RF Pipeline",
          "Adult RF Pipeline",
          "Adult RF Pipeline",
          "Adult RF Pipeline",
          "Adult RF Pipeline",
          "Adult RF Pipeline",
          "Adult RF Pipeline",
          "Adult RF Pipeline",
          "Adult RF Pipeline",
          "Adult RF Pipeline",
          "Adult RF Pipeline",
          "Adult RF Pipeline",
          "Adult RF Pipeline",
          "Adult RF Pipeline",
          "Adult RF Pipeline",
          "Adult RF Pipeline",
          "Adult RF Pipeline",
          "Adult RF Pipeline",
          "Adult RF Pipeline",
          "Adult RF Pipeline",
          "Adult RF Pipeline",
          "Adult RF Pipeline",
          "Adult RF Pipeline",
          "Adult RF Pipeline",
          "Adult RF Pipeline",
          "Adult RF Pipeline"
         ],
         "legendgroup": "Adult RF Pipeline",
         "line": {
          "color": "#46bac2",
          "dash": "solid",
          "width": 2
         },
         "mode": "lines",
         "name": "Adult RF Pipeline",
         "opacity": 1,
         "orientation": "v",
         "showlegend": false,
         "type": "scatter",
         "x": [
          0,
          43.56,
          87.12,
          130.68,
          174.24,
          217.8,
          261.36,
          304.92,
          348.48,
          392.04,
          435.6,
          479.16,
          522.72,
          566.28,
          609.84,
          653.4000000000001,
          696.96,
          740.52,
          784.08,
          827.6400000000001,
          871.2,
          914.76,
          958.32,
          1001.8800000000001,
          1045.44,
          1089,
          1132.56,
          1176.1200000000001,
          1219.68,
          1263.24,
          1306.8000000000002,
          1350.3600000000001,
          1393.92,
          1437.48,
          1481.04,
          1524.6000000000001,
          1568.16,
          1611.72,
          1655.2800000000002,
          1698.8400000000001,
          1742.4,
          1785.96,
          1829.52,
          1873.0800000000002,
          1916.64,
          1960.2,
          2003.7600000000002,
          2047.3200000000002,
          2090.88,
          2134.44,
          2178,
          2221.56,
          2265.12,
          2308.6800000000003,
          2352.2400000000002,
          2395.8,
          2439.36,
          2482.92,
          2526.48,
          2570.04,
          2613.6000000000004,
          2657.1600000000003,
          2700.7200000000003,
          2744.28,
          2787.84,
          2831.4,
          2874.96,
          2918.52,
          2962.08,
          3005.6400000000003,
          3049.2000000000003,
          3092.76,
          3136.32,
          3179.88,
          3223.44,
          3267,
          3310.5600000000004,
          3354.1200000000003,
          3397.6800000000003,
          3441.2400000000002,
          3484.8,
          3528.36,
          3571.92,
          3615.48,
          3659.04,
          3702.6000000000004,
          3746.1600000000003,
          3789.7200000000003,
          3833.28,
          3876.84,
          3920.4,
          3963.96,
          4007.5200000000004,
          4051.0800000000004,
          4094.6400000000003,
          4138.2,
          4181.76,
          4225.320000000001,
          4268.88,
          4312.4400000000005,
          4356
         ],
         "xaxis": "x",
         "y": [
          0.24081695331695258,
          0.24081695331695258,
          0.24081695331695258,
          0.24081695331695258,
          0.24081695331695258,
          0.24081695331695258,
          0.24081695331695258,
          0.24081695331695258,
          0.24081695331695258,
          0.24081695331695258,
          0.24081695331695258,
          0.24081695331695258,
          0.24081695331695258,
          0.24081695331695258,
          0.24081695331695258,
          0.24081695331695258,
          0.24081695331695258,
          0.24081695331695258,
          0.24081695331695258,
          0.24081695331695258,
          0.24081695331695258,
          0.24081695331695258,
          0.24081695331695258,
          0.24081695331695258,
          0.24081695331695258,
          0.24081695331695258,
          0.24081695331695258,
          0.24081695331695258,
          0.24081695331695258,
          0.24081695331695258,
          0.24081695331695258,
          0.24081695331695258,
          0.24081695331695258,
          0.24081695331695258,
          0.24081695331695258,
          0.24081695331695258,
          0.24081695331695258,
          0.24081695331695258,
          0.24081695331695258,
          0.24081695331695258,
          0.24081695331695258,
          0.24081695331695258,
          0.24081695331695258,
          0.24081695331695258,
          0.24081695331695258,
          0.24081695331695258,
          0.24081695331695258,
          0.24081695331695258,
          0.24081695331695258,
          0.24081695331695258,
          0.24081695331695258,
          0.24081695331695258,
          0.24081695331695258,
          0.24081695331695258,
          0.24081695331695258,
          0.24081695331695258,
          0.24081695331695258,
          0.24081695331695258,
          0.24081695331695258,
          0.24081695331695258,
          0.24081695331695258,
          0.24081695331695258,
          0.24081695331695258,
          0.24081695331695258,
          0.24081695331695258,
          0.24081695331695258,
          0.24081695331695258,
          0.24081695331695258,
          0.24081695331695258,
          0.24081695331695258,
          0.24081695331695258,
          0.24081695331695258,
          0.24081695331695258,
          0.24081695331695258,
          0.24081695331695258,
          0.24081695331695258,
          0.24081695331695258,
          0.24081695331695258,
          0.24081695331695258,
          0.24081695331695258,
          0.24081695331695258,
          0.24081695331695258,
          0.24081695331695258,
          0.24081695331695258,
          0.24081695331695258,
          0.24081695331695258,
          0.24081695331695258,
          0.24081695331695258,
          0.24081695331695258,
          0.24081695331695258,
          0.24081695331695258,
          0.24081695331695258,
          0.24081695331695258,
          0.24081695331695258,
          0.24081695331695258,
          0.24081695331695258,
          0.24081695331695258,
          0.24081695331695258,
          0.24081695331695258,
          0.24081695331695258,
          0.24081695331695258
         ],
         "yaxis": "y"
        },
        {
         "customdata": [
          [
           0.24081695331695377,
           "Adult RF Pipeline",
           "Hours per Week"
          ],
          [
           0.24081695331695377,
           "Adult RF Pipeline",
           "Hours per Week"
          ],
          [
           0.24081695331695377,
           "Adult RF Pipeline",
           "Hours per Week"
          ],
          [
           0.24081695331695377,
           "Adult RF Pipeline",
           "Hours per Week"
          ],
          [
           0.24081695331695377,
           "Adult RF Pipeline",
           "Hours per Week"
          ],
          [
           0.24081695331695377,
           "Adult RF Pipeline",
           "Hours per Week"
          ],
          [
           0.24081695331695377,
           "Adult RF Pipeline",
           "Hours per Week"
          ],
          [
           0.24081695331695377,
           "Adult RF Pipeline",
           "Hours per Week"
          ],
          [
           0.24081695331695377,
           "Adult RF Pipeline",
           "Hours per Week"
          ],
          [
           0.24081695331695377,
           "Adult RF Pipeline",
           "Hours per Week"
          ],
          [
           0.24081695331695377,
           "Adult RF Pipeline",
           "Hours per Week"
          ],
          [
           0.24081695331695377,
           "Adult RF Pipeline",
           "Hours per Week"
          ],
          [
           0.24081695331695377,
           "Adult RF Pipeline",
           "Hours per Week"
          ],
          [
           0.24081695331695377,
           "Adult RF Pipeline",
           "Hours per Week"
          ],
          [
           0.24081695331695377,
           "Adult RF Pipeline",
           "Hours per Week"
          ],
          [
           0.24081695331695377,
           "Adult RF Pipeline",
           "Hours per Week"
          ],
          [
           0.24081695331695377,
           "Adult RF Pipeline",
           "Hours per Week"
          ],
          [
           0.24081695331695377,
           "Adult RF Pipeline",
           "Hours per Week"
          ],
          [
           0.24081695331695377,
           "Adult RF Pipeline",
           "Hours per Week"
          ],
          [
           0.24081695331695377,
           "Adult RF Pipeline",
           "Hours per Week"
          ],
          [
           0.24081695331695377,
           "Adult RF Pipeline",
           "Hours per Week"
          ],
          [
           0.24081695331695377,
           "Adult RF Pipeline",
           "Hours per Week"
          ],
          [
           0.24081695331695377,
           "Adult RF Pipeline",
           "Hours per Week"
          ],
          [
           0.24081695331695377,
           "Adult RF Pipeline",
           "Hours per Week"
          ],
          [
           0.24081695331695377,
           "Adult RF Pipeline",
           "Hours per Week"
          ],
          [
           0.24081695331695377,
           "Adult RF Pipeline",
           "Hours per Week"
          ],
          [
           0.24081695331695377,
           "Adult RF Pipeline",
           "Hours per Week"
          ],
          [
           0.24081695331695377,
           "Adult RF Pipeline",
           "Hours per Week"
          ],
          [
           0.24081695331695377,
           "Adult RF Pipeline",
           "Hours per Week"
          ],
          [
           0.24081695331695377,
           "Adult RF Pipeline",
           "Hours per Week"
          ],
          [
           0.24081695331695377,
           "Adult RF Pipeline",
           "Hours per Week"
          ],
          [
           0.24081695331695377,
           "Adult RF Pipeline",
           "Hours per Week"
          ],
          [
           0.24081695331695377,
           "Adult RF Pipeline",
           "Hours per Week"
          ],
          [
           0.24081695331695377,
           "Adult RF Pipeline",
           "Hours per Week"
          ],
          [
           0.24081695331695377,
           "Adult RF Pipeline",
           "Hours per Week"
          ],
          [
           0.24081695331695377,
           "Adult RF Pipeline",
           "Hours per Week"
          ],
          [
           0.24081695331695377,
           "Adult RF Pipeline",
           "Hours per Week"
          ],
          [
           0.24081695331695377,
           "Adult RF Pipeline",
           "Hours per Week"
          ],
          [
           0.24081695331695377,
           "Adult RF Pipeline",
           "Hours per Week"
          ],
          [
           0.24081695331695377,
           "Adult RF Pipeline",
           "Hours per Week"
          ],
          [
           0.24081695331695377,
           "Adult RF Pipeline",
           "Hours per Week"
          ],
          [
           0.24081695331695377,
           "Adult RF Pipeline",
           "Hours per Week"
          ],
          [
           0.24081695331695377,
           "Adult RF Pipeline",
           "Hours per Week"
          ],
          [
           0.24081695331695377,
           "Adult RF Pipeline",
           "Hours per Week"
          ],
          [
           0.24081695331695377,
           "Adult RF Pipeline",
           "Hours per Week"
          ],
          [
           0.24081695331695377,
           "Adult RF Pipeline",
           "Hours per Week"
          ],
          [
           0.24081695331695377,
           "Adult RF Pipeline",
           "Hours per Week"
          ],
          [
           0.24081695331695377,
           "Adult RF Pipeline",
           "Hours per Week"
          ],
          [
           0.24081695331695377,
           "Adult RF Pipeline",
           "Hours per Week"
          ],
          [
           0.24081695331695377,
           "Adult RF Pipeline",
           "Hours per Week"
          ],
          [
           0.24081695331695377,
           "Adult RF Pipeline",
           "Hours per Week"
          ],
          [
           0.24081695331695377,
           "Adult RF Pipeline",
           "Hours per Week"
          ],
          [
           0.24081695331695377,
           "Adult RF Pipeline",
           "Hours per Week"
          ],
          [
           0.24081695331695377,
           "Adult RF Pipeline",
           "Hours per Week"
          ],
          [
           0.24081695331695377,
           "Adult RF Pipeline",
           "Hours per Week"
          ],
          [
           0.24081695331695377,
           "Adult RF Pipeline",
           "Hours per Week"
          ],
          [
           0.24081695331695377,
           "Adult RF Pipeline",
           "Hours per Week"
          ],
          [
           0.24081695331695377,
           "Adult RF Pipeline",
           "Hours per Week"
          ],
          [
           0.24081695331695377,
           "Adult RF Pipeline",
           "Hours per Week"
          ],
          [
           0.24081695331695377,
           "Adult RF Pipeline",
           "Hours per Week"
          ],
          [
           0.24081695331695377,
           "Adult RF Pipeline",
           "Hours per Week"
          ],
          [
           0.24081695331695377,
           "Adult RF Pipeline",
           "Hours per Week"
          ],
          [
           0.24081695331695377,
           "Adult RF Pipeline",
           "Hours per Week"
          ],
          [
           0.24081695331695377,
           "Adult RF Pipeline",
           "Hours per Week"
          ],
          [
           0.24081695331695377,
           "Adult RF Pipeline",
           "Hours per Week"
          ],
          [
           0.24081695331695377,
           "Adult RF Pipeline",
           "Hours per Week"
          ],
          [
           0.24081695331695377,
           "Adult RF Pipeline",
           "Hours per Week"
          ],
          [
           0.24081695331695377,
           "Adult RF Pipeline",
           "Hours per Week"
          ],
          [
           0.24081695331695377,
           "Adult RF Pipeline",
           "Hours per Week"
          ],
          [
           0.24081695331695377,
           "Adult RF Pipeline",
           "Hours per Week"
          ],
          [
           0.24081695331695377,
           "Adult RF Pipeline",
           "Hours per Week"
          ],
          [
           0.24081695331695377,
           "Adult RF Pipeline",
           "Hours per Week"
          ],
          [
           0.24081695331695377,
           "Adult RF Pipeline",
           "Hours per Week"
          ],
          [
           0.24081695331695377,
           "Adult RF Pipeline",
           "Hours per Week"
          ],
          [
           0.24081695331695377,
           "Adult RF Pipeline",
           "Hours per Week"
          ],
          [
           0.24081695331695377,
           "Adult RF Pipeline",
           "Hours per Week"
          ],
          [
           0.24081695331695377,
           "Adult RF Pipeline",
           "Hours per Week"
          ],
          [
           0.24081695331695377,
           "Adult RF Pipeline",
           "Hours per Week"
          ],
          [
           0.24081695331695377,
           "Adult RF Pipeline",
           "Hours per Week"
          ],
          [
           0.24081695331695377,
           "Adult RF Pipeline",
           "Hours per Week"
          ],
          [
           0.24081695331695377,
           "Adult RF Pipeline",
           "Hours per Week"
          ],
          [
           0.24081695331695377,
           "Adult RF Pipeline",
           "Hours per Week"
          ],
          [
           0.24081695331695377,
           "Adult RF Pipeline",
           "Hours per Week"
          ],
          [
           0.24081695331695377,
           "Adult RF Pipeline",
           "Hours per Week"
          ],
          [
           0.24081695331695377,
           "Adult RF Pipeline",
           "Hours per Week"
          ],
          [
           0.24081695331695377,
           "Adult RF Pipeline",
           "Hours per Week"
          ],
          [
           0.24081695331695377,
           "Adult RF Pipeline",
           "Hours per Week"
          ],
          [
           0.24081695331695377,
           "Adult RF Pipeline",
           "Hours per Week"
          ],
          [
           0.24081695331695377,
           "Adult RF Pipeline",
           "Hours per Week"
          ],
          [
           0.24081695331695377,
           "Adult RF Pipeline",
           "Hours per Week"
          ],
          [
           0.24081695331695377,
           "Adult RF Pipeline",
           "Hours per Week"
          ],
          [
           0.24081695331695377,
           "Adult RF Pipeline",
           "Hours per Week"
          ],
          [
           0.24081695331695377,
           "Adult RF Pipeline",
           "Hours per Week"
          ],
          [
           0.24081695331695377,
           "Adult RF Pipeline",
           "Hours per Week"
          ],
          [
           0.24081695331695377,
           "Adult RF Pipeline",
           "Hours per Week"
          ],
          [
           0.24081695331695377,
           "Adult RF Pipeline",
           "Hours per Week"
          ],
          [
           0.24081695331695377,
           "Adult RF Pipeline",
           "Hours per Week"
          ],
          [
           0.24081695331695377,
           "Adult RF Pipeline",
           "Hours per Week"
          ],
          [
           0.24081695331695377,
           "Adult RF Pipeline",
           "Hours per Week"
          ],
          [
           0.24081695331695377,
           "Adult RF Pipeline",
           "Hours per Week"
          ],
          [
           0.24081695331695377,
           "Adult RF Pipeline",
           "Hours per Week"
          ]
         ],
         "hovertemplate": "<b>%{hovertext}</b><br><br>prediction=%{y:.3f}<br>mean_prediction=%{customdata[0]:.3f}<extra></extra>",
         "hovertext": [
          "Adult RF Pipeline",
          "Adult RF Pipeline",
          "Adult RF Pipeline",
          "Adult RF Pipeline",
          "Adult RF Pipeline",
          "Adult RF Pipeline",
          "Adult RF Pipeline",
          "Adult RF Pipeline",
          "Adult RF Pipeline",
          "Adult RF Pipeline",
          "Adult RF Pipeline",
          "Adult RF Pipeline",
          "Adult RF Pipeline",
          "Adult RF Pipeline",
          "Adult RF Pipeline",
          "Adult RF Pipeline",
          "Adult RF Pipeline",
          "Adult RF Pipeline",
          "Adult RF Pipeline",
          "Adult RF Pipeline",
          "Adult RF Pipeline",
          "Adult RF Pipeline",
          "Adult RF Pipeline",
          "Adult RF Pipeline",
          "Adult RF Pipeline",
          "Adult RF Pipeline",
          "Adult RF Pipeline",
          "Adult RF Pipeline",
          "Adult RF Pipeline",
          "Adult RF Pipeline",
          "Adult RF Pipeline",
          "Adult RF Pipeline",
          "Adult RF Pipeline",
          "Adult RF Pipeline",
          "Adult RF Pipeline",
          "Adult RF Pipeline",
          "Adult RF Pipeline",
          "Adult RF Pipeline",
          "Adult RF Pipeline",
          "Adult RF Pipeline",
          "Adult RF Pipeline",
          "Adult RF Pipeline",
          "Adult RF Pipeline",
          "Adult RF Pipeline",
          "Adult RF Pipeline",
          "Adult RF Pipeline",
          "Adult RF Pipeline",
          "Adult RF Pipeline",
          "Adult RF Pipeline",
          "Adult RF Pipeline",
          "Adult RF Pipeline",
          "Adult RF Pipeline",
          "Adult RF Pipeline",
          "Adult RF Pipeline",
          "Adult RF Pipeline",
          "Adult RF Pipeline",
          "Adult RF Pipeline",
          "Adult RF Pipeline",
          "Adult RF Pipeline",
          "Adult RF Pipeline",
          "Adult RF Pipeline",
          "Adult RF Pipeline",
          "Adult RF Pipeline",
          "Adult RF Pipeline",
          "Adult RF Pipeline",
          "Adult RF Pipeline",
          "Adult RF Pipeline",
          "Adult RF Pipeline",
          "Adult RF Pipeline",
          "Adult RF Pipeline",
          "Adult RF Pipeline",
          "Adult RF Pipeline",
          "Adult RF Pipeline",
          "Adult RF Pipeline",
          "Adult RF Pipeline",
          "Adult RF Pipeline",
          "Adult RF Pipeline",
          "Adult RF Pipeline",
          "Adult RF Pipeline",
          "Adult RF Pipeline",
          "Adult RF Pipeline",
          "Adult RF Pipeline",
          "Adult RF Pipeline",
          "Adult RF Pipeline",
          "Adult RF Pipeline",
          "Adult RF Pipeline",
          "Adult RF Pipeline",
          "Adult RF Pipeline",
          "Adult RF Pipeline",
          "Adult RF Pipeline",
          "Adult RF Pipeline",
          "Adult RF Pipeline",
          "Adult RF Pipeline",
          "Adult RF Pipeline",
          "Adult RF Pipeline",
          "Adult RF Pipeline",
          "Adult RF Pipeline",
          "Adult RF Pipeline",
          "Adult RF Pipeline",
          "Adult RF Pipeline",
          "Adult RF Pipeline"
         ],
         "legendgroup": "Adult RF Pipeline",
         "line": {
          "color": "#46bac2",
          "dash": "solid",
          "width": 2
         },
         "mode": "lines",
         "name": "Adult RF Pipeline",
         "opacity": 1,
         "orientation": "v",
         "showlegend": false,
         "type": "scatter",
         "x": [
          1,
          1.98,
          2.96,
          3.94,
          4.92,
          5.9,
          6.88,
          7.859999999999999,
          8.84,
          9.82,
          10.8,
          11.78,
          12.76,
          13.74,
          14.719999999999999,
          15.7,
          16.68,
          17.66,
          18.64,
          19.62,
          20.6,
          21.58,
          22.56,
          23.54,
          24.52,
          25.5,
          26.48,
          27.46,
          28.439999999999998,
          29.419999999999998,
          30.4,
          31.38,
          32.36,
          33.339999999999996,
          34.32,
          35.3,
          36.28,
          37.26,
          38.24,
          39.22,
          40.2,
          41.18,
          42.16,
          43.14,
          44.12,
          45.1,
          46.08,
          47.06,
          48.04,
          49.019999999999996,
          50,
          50.98,
          51.96,
          52.94,
          53.92,
          54.9,
          55.879999999999995,
          56.86,
          57.839999999999996,
          58.82,
          59.8,
          60.78,
          61.76,
          62.74,
          63.72,
          64.69999999999999,
          65.67999999999999,
          66.66,
          67.64,
          68.62,
          69.6,
          70.58,
          71.56,
          72.53999999999999,
          73.52,
          74.5,
          75.48,
          76.46,
          77.44,
          78.42,
          79.4,
          80.38,
          81.36,
          82.34,
          83.32,
          84.3,
          85.28,
          86.26,
          87.24,
          88.22,
          89.2,
          90.17999999999999,
          91.16,
          92.14,
          93.12,
          94.1,
          95.08,
          96.06,
          97.03999999999999,
          98.02,
          99
         ],
         "xaxis": "x2",
         "y": [
          0.24081695331695258,
          0.24081695331695258,
          0.24081695331695258,
          0.24081695331695258,
          0.24081695331695258,
          0.24081695331695258,
          0.24081695331695258,
          0.24081695331695258,
          0.24081695331695258,
          0.24081695331695258,
          0.24081695331695258,
          0.24081695331695258,
          0.24081695331695258,
          0.24081695331695258,
          0.24081695331695258,
          0.24081695331695258,
          0.24081695331695258,
          0.24081695331695258,
          0.24081695331695258,
          0.24081695331695258,
          0.24081695331695258,
          0.24081695331695258,
          0.24081695331695258,
          0.24081695331695258,
          0.24081695331695258,
          0.24081695331695258,
          0.24081695331695258,
          0.24081695331695258,
          0.24081695331695258,
          0.24081695331695258,
          0.24081695331695258,
          0.24081695331695258,
          0.24081695331695258,
          0.24081695331695258,
          0.24081695331695258,
          0.24081695331695258,
          0.24081695331695258,
          0.24081695331695258,
          0.24081695331695258,
          0.24081695331695258,
          0.24081695331695258,
          0.24081695331695258,
          0.24081695331695258,
          0.24081695331695258,
          0.24081695331695258,
          0.24081695331695258,
          0.24081695331695258,
          0.24081695331695258,
          0.24081695331695258,
          0.24081695331695258,
          0.24081695331695258,
          0.24081695331695258,
          0.24081695331695258,
          0.24081695331695258,
          0.24081695331695258,
          0.24081695331695258,
          0.24081695331695258,
          0.24081695331695258,
          0.24081695331695258,
          0.24081695331695258,
          0.24081695331695258,
          0.24081695331695258,
          0.24081695331695258,
          0.24081695331695258,
          0.24081695331695258,
          0.24081695331695258,
          0.24081695331695258,
          0.24081695331695258,
          0.24081695331695258,
          0.24081695331695258,
          0.24081695331695258,
          0.24081695331695258,
          0.24081695331695258,
          0.24081695331695258,
          0.24081695331695258,
          0.24081695331695258,
          0.24081695331695258,
          0.24081695331695258,
          0.24081695331695258,
          0.24081695331695258,
          0.24081695331695258,
          0.24081695331695258,
          0.24081695331695258,
          0.24081695331695258,
          0.24081695331695258,
          0.24081695331695258,
          0.24081695331695258,
          0.24081695331695258,
          0.24081695331695258,
          0.24081695331695258,
          0.24081695331695258,
          0.24081695331695258,
          0.24081695331695258,
          0.24081695331695258,
          0.24081695331695258,
          0.24081695331695258,
          0.24081695331695258,
          0.24081695331695258,
          0.24081695331695258,
          0.24081695331695258,
          0.24081695331695258
         ],
         "yaxis": "y2"
        }
       ],
       "layout": {
        "annotations": [
         {
          "font": {
           "size": 13
          },
          "showarrow": false,
          "text": "Capital Loss",
          "x": 0.2375,
          "xanchor": "center",
          "xref": "paper",
          "y": 0.26666666666666666,
          "yanchor": "bottom",
          "yref": "paper"
         },
         {
          "font": {
           "size": 13
          },
          "showarrow": false,
          "text": "Hours per Week",
          "x": 0.7625,
          "xanchor": "center",
          "xref": "paper",
          "y": 0.26666666666666666,
          "yanchor": "bottom",
          "yref": "paper"
         },
         {
          "font": {
           "size": 13
          },
          "showarrow": false,
          "text": "Years of Education",
          "x": 0.2375,
          "xanchor": "center",
          "xref": "paper",
          "y": 0.6333333333333333,
          "yanchor": "bottom",
          "yref": "paper"
         },
         {
          "font": {
           "size": 13
          },
          "showarrow": false,
          "text": "Capital Gain",
          "x": 0.7625,
          "xanchor": "center",
          "xref": "paper",
          "y": 0.6333333333333333,
          "yanchor": "bottom",
          "yref": "paper"
         },
         {
          "font": {
           "size": 13
          },
          "showarrow": false,
          "text": "Age",
          "x": 0.2375,
          "xanchor": "center",
          "xref": "paper",
          "y": 1,
          "yanchor": "bottom",
          "yref": "paper"
         },
         {
          "font": {
           "size": 13
          },
          "showarrow": false,
          "text": "Final Weight",
          "x": 0.7625,
          "xanchor": "center",
          "xref": "paper",
          "y": 1,
          "yanchor": "bottom",
          "yref": "paper"
         },
         {
          "font": {
           "size": 13
          },
          "showarrow": false,
          "text": "prediction",
          "textangle": -90,
          "x": -0.07,
          "xref": "paper",
          "y": 0.5,
          "yref": "paper"
         }
        ],
        "font": {
         "color": "#371ea3"
        },
        "height": 1169,
        "hovermode": "x unified",
        "legend": {
         "font": {
          "size": 11
         },
         "itemsizing": "constant",
         "orientation": "h",
         "title": {
          "font": {
           "size": 12
          },
          "text": "label"
         },
         "tracegroupgap": 0,
         "x": 1,
         "xanchor": "right",
         "y": 1.0256629597946962,
         "yanchor": "bottom"
        },
        "margin": {
         "b": 71,
         "r": 30,
         "t": 78
        },
        "template": {
         "data": {
          "scatter": [
           {
            "type": "scatter"
           }
          ]
         }
        },
        "title": {
         "font": {
          "size": 16
         },
         "text": "Aggregated Profiles",
         "x": 0.15
        },
        "xaxis": {
         "anchor": "y",
         "automargin": true,
         "domain": [
          0,
          0.475
         ],
         "fixedrange": true,
         "gridwidth": 2,
         "showticklabels": true,
         "tickcolor": "white",
         "ticklen": 3,
         "ticks": "outside",
         "title": {
          "text": ""
         },
         "type": "linear",
         "zeroline": false
        },
        "xaxis2": {
         "anchor": "y2",
         "automargin": true,
         "domain": [
          0.525,
          1
         ],
         "fixedrange": true,
         "gridwidth": 2,
         "showticklabels": true,
         "tickcolor": "white",
         "ticklen": 3,
         "ticks": "outside",
         "title": {
          "text": ""
         },
         "type": "linear",
         "zeroline": false
        },
        "xaxis3": {
         "anchor": "y3",
         "automargin": true,
         "domain": [
          0,
          0.475
         ],
         "fixedrange": true,
         "gridwidth": 2,
         "showticklabels": true,
         "tickcolor": "white",
         "ticklen": 3,
         "ticks": "outside",
         "title": {
          "text": ""
         },
         "type": "linear",
         "zeroline": false
        },
        "xaxis4": {
         "anchor": "y4",
         "automargin": true,
         "domain": [
          0.525,
          1
         ],
         "fixedrange": true,
         "gridwidth": 2,
         "showticklabels": true,
         "tickcolor": "white",
         "ticklen": 3,
         "ticks": "outside",
         "title": {
          "text": ""
         },
         "type": "linear",
         "zeroline": false
        },
        "xaxis5": {
         "anchor": "y5",
         "automargin": true,
         "domain": [
          0,
          0.475
         ],
         "fixedrange": true,
         "gridwidth": 2,
         "showticklabels": true,
         "tickcolor": "white",
         "ticklen": 3,
         "ticks": "outside",
         "title": {
          "text": ""
         },
         "type": "linear",
         "zeroline": false
        },
        "xaxis6": {
         "anchor": "y6",
         "automargin": true,
         "domain": [
          0.525,
          1
         ],
         "fixedrange": true,
         "gridwidth": 2,
         "showticklabels": true,
         "tickcolor": "white",
         "ticklen": 3,
         "ticks": "outside",
         "title": {
          "text": ""
         },
         "type": "linear",
         "zeroline": false
        },
        "yaxis": {
         "anchor": "x",
         "automargin": true,
         "domain": [
          0,
          0.26666666666666666
         ],
         "fixedrange": true,
         "gridwidth": 2,
         "range": [
          0.24081695331695258,
          0.24081695331695258
         ],
         "tickcolor": "white",
         "ticklen": 3,
         "ticks": "outside",
         "title": {
          "text": ""
         },
         "type": "linear",
         "zeroline": false
        },
        "yaxis2": {
         "anchor": "x2",
         "automargin": true,
         "domain": [
          0,
          0.26666666666666666
         ],
         "fixedrange": true,
         "gridwidth": 2,
         "matches": "y",
         "range": [
          0.24081695331695258,
          0.24081695331695258
         ],
         "showticklabels": false,
         "tickcolor": "white",
         "ticklen": 3,
         "ticks": "outside",
         "title": {
          "text": ""
         },
         "type": "linear",
         "zeroline": false
        },
        "yaxis3": {
         "anchor": "x3",
         "automargin": true,
         "domain": [
          0.36666666666666664,
          0.6333333333333333
         ],
         "fixedrange": true,
         "gridwidth": 2,
         "matches": "y",
         "range": [
          0.24081695331695258,
          0.24081695331695258
         ],
         "tickcolor": "white",
         "ticklen": 3,
         "ticks": "outside",
         "title": {
          "text": ""
         },
         "type": "linear",
         "zeroline": false
        },
        "yaxis4": {
         "anchor": "x4",
         "automargin": true,
         "domain": [
          0.36666666666666664,
          0.6333333333333333
         ],
         "fixedrange": true,
         "gridwidth": 2,
         "matches": "y",
         "range": [
          0.24081695331695258,
          0.24081695331695258
         ],
         "showticklabels": false,
         "tickcolor": "white",
         "ticklen": 3,
         "ticks": "outside",
         "title": {
          "text": ""
         },
         "type": "linear",
         "zeroline": false
        },
        "yaxis5": {
         "anchor": "x5",
         "automargin": true,
         "domain": [
          0.7333333333333333,
          1
         ],
         "fixedrange": true,
         "gridwidth": 2,
         "matches": "y",
         "range": [
          0.24081695331695258,
          0.24081695331695258
         ],
         "tickcolor": "white",
         "ticklen": 3,
         "ticks": "outside",
         "title": {
          "text": ""
         },
         "type": "linear",
         "zeroline": false
        },
        "yaxis6": {
         "anchor": "x6",
         "automargin": true,
         "domain": [
          0.7333333333333333,
          1
         ],
         "fixedrange": true,
         "gridwidth": 2,
         "matches": "y",
         "range": [
          0.24081695331695258,
          0.24081695331695258
         ],
         "showticklabels": false,
         "tickcolor": "white",
         "ticklen": 3,
         "ticks": "outside",
         "title": {
          "text": ""
         },
         "type": "linear",
         "zeroline": false
        }
       }
      }
     },
     "metadata": {}
    }
   ],
   "source": [
    "pd_rf.plot()"
   ]
  },
  {
   "cell_type": "code",
   "execution_count": 14,
   "metadata": {},
   "outputs": [
    {
     "output_type": "execute_result",
     "data": {
      "text/plain": [
       "0         True\n",
       "1         True\n",
       "2         True\n",
       "3         True\n",
       "4         True\n",
       "         ...  \n",
       "32555     True\n",
       "32556    False\n",
       "32557     True\n",
       "32558     True\n",
       "32559    False\n",
       "Name: Income, Length: 32560, dtype: bool"
      ]
     },
     "metadata": {},
     "execution_count": 14
    }
   ],
   "source": [
    "adult_rf.predict(X) == y"
   ]
  },
  {
   "cell_type": "code",
   "execution_count": null,
   "metadata": {},
   "outputs": [],
   "source": []
  },
  {
   "cell_type": "code",
   "execution_count": 3,
   "metadata": {},
   "outputs": [
    {
     "output_type": "execute_result",
     "data": {
      "text/plain": [
       "       Age         Workclass  Final Weight   Education  Years of Education  \\\n",
       "0       50  Self-emp-not-inc         83311   Bachelors                  13   \n",
       "1       38           Private        215646     HS-grad                   9   \n",
       "2       53           Private        234721        11th                   7   \n",
       "3       28           Private        338409   Bachelors                  13   \n",
       "4       37           Private        284582     Masters                  14   \n",
       "...    ...               ...           ...         ...                 ...   \n",
       "32555   27           Private        257302  Assoc-acdm                  12   \n",
       "32556   40           Private        154374     HS-grad                   9   \n",
       "32557   58           Private        151910     HS-grad                   9   \n",
       "32558   22           Private        201490     HS-grad                   9   \n",
       "32559   52      Self-emp-inc        287927     HS-grad                   9   \n",
       "\n",
       "           Marital Status         Occupation   Relationship   Race     Sex  \\\n",
       "0      Married-civ-spouse    Exec-managerial        Husband  White    Male   \n",
       "1                Divorced  Handlers-cleaners  Not-in-family  White    Male   \n",
       "2      Married-civ-spouse  Handlers-cleaners        Husband  Black    Male   \n",
       "3      Married-civ-spouse     Prof-specialty           Wife  Black  Female   \n",
       "4      Married-civ-spouse    Exec-managerial           Wife  White  Female   \n",
       "...                   ...                ...            ...    ...     ...   \n",
       "32555  Married-civ-spouse       Tech-support           Wife  White  Female   \n",
       "32556  Married-civ-spouse  Machine-op-inspct        Husband  White    Male   \n",
       "32557             Widowed       Adm-clerical      Unmarried  White  Female   \n",
       "32558       Never-married       Adm-clerical      Own-child  White    Male   \n",
       "32559  Married-civ-spouse    Exec-managerial           Wife  White  Female   \n",
       "\n",
       "       Capital Gain  Capital Loss  Hours per Week Native Country Income  \n",
       "0                 0             0              13  United-States  <=50K  \n",
       "1                 0             0              40  United-States  <=50K  \n",
       "2                 0             0              40  United-States  <=50K  \n",
       "3                 0             0              40           Cuba  <=50K  \n",
       "4                 0             0              40  United-States  <=50K  \n",
       "...             ...           ...             ...            ...    ...  \n",
       "32555             0             0              38  United-States  <=50K  \n",
       "32556             0             0              40  United-States   >50K  \n",
       "32557             0             0              40  United-States  <=50K  \n",
       "32558             0             0              20  United-States  <=50K  \n",
       "32559         15024             0              40  United-States   >50K  \n",
       "\n",
       "[32560 rows x 15 columns]"
      ],
      "text/html": "<div>\n<style scoped>\n    .dataframe tbody tr th:only-of-type {\n        vertical-align: middle;\n    }\n\n    .dataframe tbody tr th {\n        vertical-align: top;\n    }\n\n    .dataframe thead th {\n        text-align: right;\n    }\n</style>\n<table border=\"1\" class=\"dataframe\">\n  <thead>\n    <tr style=\"text-align: right;\">\n      <th></th>\n      <th>Age</th>\n      <th>Workclass</th>\n      <th>Final Weight</th>\n      <th>Education</th>\n      <th>Years of Education</th>\n      <th>Marital Status</th>\n      <th>Occupation</th>\n      <th>Relationship</th>\n      <th>Race</th>\n      <th>Sex</th>\n      <th>Capital Gain</th>\n      <th>Capital Loss</th>\n      <th>Hours per Week</th>\n      <th>Native Country</th>\n      <th>Income</th>\n    </tr>\n  </thead>\n  <tbody>\n    <tr>\n      <th>0</th>\n      <td>50</td>\n      <td>Self-emp-not-inc</td>\n      <td>83311</td>\n      <td>Bachelors</td>\n      <td>13</td>\n      <td>Married-civ-spouse</td>\n      <td>Exec-managerial</td>\n      <td>Husband</td>\n      <td>White</td>\n      <td>Male</td>\n      <td>0</td>\n      <td>0</td>\n      <td>13</td>\n      <td>United-States</td>\n      <td>&lt;=50K</td>\n    </tr>\n    <tr>\n      <th>1</th>\n      <td>38</td>\n      <td>Private</td>\n      <td>215646</td>\n      <td>HS-grad</td>\n      <td>9</td>\n      <td>Divorced</td>\n      <td>Handlers-cleaners</td>\n      <td>Not-in-family</td>\n      <td>White</td>\n      <td>Male</td>\n      <td>0</td>\n      <td>0</td>\n      <td>40</td>\n      <td>United-States</td>\n      <td>&lt;=50K</td>\n    </tr>\n    <tr>\n      <th>2</th>\n      <td>53</td>\n      <td>Private</td>\n      <td>234721</td>\n      <td>11th</td>\n      <td>7</td>\n      <td>Married-civ-spouse</td>\n      <td>Handlers-cleaners</td>\n      <td>Husband</td>\n      <td>Black</td>\n      <td>Male</td>\n      <td>0</td>\n      <td>0</td>\n      <td>40</td>\n      <td>United-States</td>\n      <td>&lt;=50K</td>\n    </tr>\n    <tr>\n      <th>3</th>\n      <td>28</td>\n      <td>Private</td>\n      <td>338409</td>\n      <td>Bachelors</td>\n      <td>13</td>\n      <td>Married-civ-spouse</td>\n      <td>Prof-specialty</td>\n      <td>Wife</td>\n      <td>Black</td>\n      <td>Female</td>\n      <td>0</td>\n      <td>0</td>\n      <td>40</td>\n      <td>Cuba</td>\n      <td>&lt;=50K</td>\n    </tr>\n    <tr>\n      <th>4</th>\n      <td>37</td>\n      <td>Private</td>\n      <td>284582</td>\n      <td>Masters</td>\n      <td>14</td>\n      <td>Married-civ-spouse</td>\n      <td>Exec-managerial</td>\n      <td>Wife</td>\n      <td>White</td>\n      <td>Female</td>\n      <td>0</td>\n      <td>0</td>\n      <td>40</td>\n      <td>United-States</td>\n      <td>&lt;=50K</td>\n    </tr>\n    <tr>\n      <th>...</th>\n      <td>...</td>\n      <td>...</td>\n      <td>...</td>\n      <td>...</td>\n      <td>...</td>\n      <td>...</td>\n      <td>...</td>\n      <td>...</td>\n      <td>...</td>\n      <td>...</td>\n      <td>...</td>\n      <td>...</td>\n      <td>...</td>\n      <td>...</td>\n      <td>...</td>\n    </tr>\n    <tr>\n      <th>32555</th>\n      <td>27</td>\n      <td>Private</td>\n      <td>257302</td>\n      <td>Assoc-acdm</td>\n      <td>12</td>\n      <td>Married-civ-spouse</td>\n      <td>Tech-support</td>\n      <td>Wife</td>\n      <td>White</td>\n      <td>Female</td>\n      <td>0</td>\n      <td>0</td>\n      <td>38</td>\n      <td>United-States</td>\n      <td>&lt;=50K</td>\n    </tr>\n    <tr>\n      <th>32556</th>\n      <td>40</td>\n      <td>Private</td>\n      <td>154374</td>\n      <td>HS-grad</td>\n      <td>9</td>\n      <td>Married-civ-spouse</td>\n      <td>Machine-op-inspct</td>\n      <td>Husband</td>\n      <td>White</td>\n      <td>Male</td>\n      <td>0</td>\n      <td>0</td>\n      <td>40</td>\n      <td>United-States</td>\n      <td>&gt;50K</td>\n    </tr>\n    <tr>\n      <th>32557</th>\n      <td>58</td>\n      <td>Private</td>\n      <td>151910</td>\n      <td>HS-grad</td>\n      <td>9</td>\n      <td>Widowed</td>\n      <td>Adm-clerical</td>\n      <td>Unmarried</td>\n      <td>White</td>\n      <td>Female</td>\n      <td>0</td>\n      <td>0</td>\n      <td>40</td>\n      <td>United-States</td>\n      <td>&lt;=50K</td>\n    </tr>\n    <tr>\n      <th>32558</th>\n      <td>22</td>\n      <td>Private</td>\n      <td>201490</td>\n      <td>HS-grad</td>\n      <td>9</td>\n      <td>Never-married</td>\n      <td>Adm-clerical</td>\n      <td>Own-child</td>\n      <td>White</td>\n      <td>Male</td>\n      <td>0</td>\n      <td>0</td>\n      <td>20</td>\n      <td>United-States</td>\n      <td>&lt;=50K</td>\n    </tr>\n    <tr>\n      <th>32559</th>\n      <td>52</td>\n      <td>Self-emp-inc</td>\n      <td>287927</td>\n      <td>HS-grad</td>\n      <td>9</td>\n      <td>Married-civ-spouse</td>\n      <td>Exec-managerial</td>\n      <td>Wife</td>\n      <td>White</td>\n      <td>Female</td>\n      <td>15024</td>\n      <td>0</td>\n      <td>40</td>\n      <td>United-States</td>\n      <td>&gt;50K</td>\n    </tr>\n  </tbody>\n</table>\n<p>32560 rows × 15 columns</p>\n</div>"
     },
     "metadata": {},
     "execution_count": 3
    }
   ],
   "source": [
    "df"
   ]
  },
  {
   "cell_type": "code",
   "execution_count": null,
   "metadata": {},
   "outputs": [],
   "source": []
  },
  {
   "cell_type": "code",
   "execution_count": null,
   "metadata": {},
   "outputs": [],
   "source": []
  }
 ]
}